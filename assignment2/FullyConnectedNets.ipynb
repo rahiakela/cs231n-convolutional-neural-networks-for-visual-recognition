{
  "nbformat": 4,
  "nbformat_minor": 0,
  "metadata": {
    "kernelspec": {
      "display_name": "Python 3",
      "name": "python3",
      "language": "python"
    },
    "language_info": {
      "mimetype": "text/x-python",
      "nbconvert_exporter": "python",
      "name": "python",
      "file_extension": ".py",
      "version": "3.7.1",
      "pygments_lexer": "ipython3",
      "codemirror_mode": {
        "version": 3,
        "name": "ipython"
      }
    },
    "colab": {
      "name": "FullyConnectedNets.ipynb",
      "provenance": [],
      "toc_visible": true,
      "include_colab_link": true
    }
  },
  "cells": [
    {
      "cell_type": "markdown",
      "metadata": {
        "id": "view-in-github",
        "colab_type": "text"
      },
      "source": [
        "<a href=\"https://colab.research.google.com/github/rahiakela/cs231n-convolutional-neural-networks-for-visual-recognition/blob/assignments/assignment2/FullyConnectedNets.ipynb\" target=\"_parent\"><img src=\"https://colab.research.google.com/assets/colab-badge.svg\" alt=\"Open In Colab\"/></a>"
      ]
    },
    {
      "cell_type": "markdown",
      "metadata": {
        "tags": [
          "pdf-title"
        ],
        "id": "47xsbJwQ6GKf",
        "colab_type": "text"
      },
      "source": [
        "# Fully-Connected Neural Nets\n",
        "In the previous homework you implemented a fully-connected two-layer neural network on CIFAR-10. The implementation was simple but not very modular since the loss and gradient were computed in a single monolithic function. This is manageable for a simple two-layer network, but would become impractical as we move to bigger models. Ideally we want to build networks using a more modular design so that we can implement different layer types in isolation and then snap them together into models with different architectures."
      ]
    },
    {
      "cell_type": "markdown",
      "metadata": {
        "tags": [
          "pdf-ignore"
        ],
        "id": "1kZIYdhJ6GKg",
        "colab_type": "text"
      },
      "source": [
        "In this exercise we will implement fully-connected networks using a more modular approach. For each layer we will implement a `forward` and a `backward` function. The `forward` function will receive inputs, weights, and other parameters and will return both an output and a `cache` object storing data needed for the backward pass, like this:\n",
        "\n",
        "```python\n",
        "def layer_forward(x, w):\n",
        "  \"\"\" Receive inputs x and weights w \"\"\"\n",
        "  # Do some computations ...\n",
        "  z = # ... some intermediate value\n",
        "  # Do some more computations ...\n",
        "  out = # the output\n",
        "   \n",
        "  cache = (x, w, z, out) # Values we need to compute gradients\n",
        "   \n",
        "  return out, cache\n",
        "```\n",
        "\n",
        "The backward pass will receive upstream derivatives and the `cache` object, and will return gradients with respect to the inputs and weights, like this:\n",
        "\n",
        "```python\n",
        "def layer_backward(dout, cache):\n",
        "  \"\"\"\n",
        "  Receive dout (derivative of loss with respect to outputs) and cache,\n",
        "  and compute derivative with respect to inputs.\n",
        "  \"\"\"\n",
        "  # Unpack cache values\n",
        "  x, w, z, out = cache\n",
        "  \n",
        "  # Use values in cache to compute derivatives\n",
        "  dx = # Derivative of loss with respect to x\n",
        "  dw = # Derivative of loss with respect to w\n",
        "  \n",
        "  return dx, dw\n",
        "```\n",
        "\n",
        "After implementing a bunch of layers this way, we will be able to easily combine them to build classifiers with different architectures.\n",
        "\n",
        "In addition to implementing fully-connected networks of arbitrary depth, we will also explore different update rules for optimization, and introduce Dropout as a regularizer and Batch/Layer Normalization as a tool to more efficiently optimize deep networks.\n",
        "  "
      ]
    },
    {
      "cell_type": "markdown",
      "metadata": {
        "id": "BmFp_LO1Iqge",
        "colab_type": "text"
      },
      "source": [
        "## Setup"
      ]
    },
    {
      "cell_type": "code",
      "metadata": {
        "id": "wCrVwkCaD7_N",
        "colab_type": "code",
        "colab": {
          "base_uri": "https://localhost:8080/",
          "height": 55
        },
        "outputId": "b1cbc89e-b354-4098-9eba-ae93cd86d01c"
      },
      "source": [
        "# clone source code from github\n",
        "!git clone https://github.com/rahiakela/cs231n-convolutional-neural-networks-for-visual-recognition -b assignments"
      ],
      "execution_count": 36,
      "outputs": [
        {
          "output_type": "stream",
          "text": [
            "fatal: destination path 'cs231n-convolutional-neural-networks-for-visual-recognition' already exists and is not an empty directory.\n"
          ],
          "name": "stdout"
        }
      ]
    },
    {
      "cell_type": "code",
      "metadata": {
        "id": "KFGsTqanE9fV",
        "colab_type": "code",
        "colab": {
          "base_uri": "https://localhost:8080/",
          "height": 35
        },
        "outputId": "ac0258d1-ca00-44bd-a917-08a20f825a03"
      },
      "source": [
        "!ls"
      ],
      "execution_count": 7,
      "outputs": [
        {
          "output_type": "stream",
          "text": [
            "cs231n-convolutional-neural-networks-for-visual-recognition  sample_data\n"
          ],
          "name": "stdout"
        }
      ]
    },
    {
      "cell_type": "code",
      "metadata": {
        "id": "Dzk26KyTEU-E",
        "colab_type": "code",
        "colab": {}
      },
      "source": [
        "# copy source code to root directory\n",
        "!cp -r cs231n-convolutional-neural-networks-for-visual-recognition/assignment2/cs231n ."
      ],
      "execution_count": 22,
      "outputs": []
    },
    {
      "cell_type": "code",
      "metadata": {
        "id": "ivz67YbDHRYS",
        "colab_type": "code",
        "colab": {
          "base_uri": "https://localhost:8080/",
          "height": 372
        },
        "outputId": "b0acaf1b-71b0-45a0-96cb-9bc6416a8f42"
      },
      "source": [
        "# download CIFAR10 dataset\n",
        "!wget http://www.cs.toronto.edu/~kriz/cifar-10-python.tar.gz\n",
        "!tar -xzvf cifar-10-python.tar.gz\n",
        "!rm cifar-10-python.tar.gz "
      ],
      "execution_count": 23,
      "outputs": [
        {
          "output_type": "stream",
          "text": [
            "--2020-09-08 05:09:17--  http://www.cs.toronto.edu/~kriz/cifar-10-python.tar.gz\n",
            "Resolving www.cs.toronto.edu (www.cs.toronto.edu)... 128.100.3.30\n",
            "Connecting to www.cs.toronto.edu (www.cs.toronto.edu)|128.100.3.30|:80... connected.\n",
            "HTTP request sent, awaiting response... 200 OK\n",
            "Length: 170498071 (163M) [application/x-gzip]\n",
            "Saving to: ‘cifar-10-python.tar.gz’\n",
            "\n",
            "cifar-10-python.tar 100%[===================>] 162.60M  71.5MB/s    in 2.3s    \n",
            "\n",
            "2020-09-08 05:09:19 (71.5 MB/s) - ‘cifar-10-python.tar.gz’ saved [170498071/170498071]\n",
            "\n",
            "cifar-10-batches-py/\n",
            "cifar-10-batches-py/data_batch_4\n",
            "cifar-10-batches-py/readme.html\n",
            "cifar-10-batches-py/test_batch\n",
            "cifar-10-batches-py/data_batch_3\n",
            "cifar-10-batches-py/batches.meta\n",
            "cifar-10-batches-py/data_batch_2\n",
            "cifar-10-batches-py/data_batch_5\n",
            "cifar-10-batches-py/data_batch_1\n"
          ],
          "name": "stdout"
        }
      ]
    },
    {
      "cell_type": "code",
      "metadata": {
        "id": "SBg4ZFx6H7Aq",
        "colab_type": "code",
        "colab": {}
      },
      "source": [
        "#copy dataset to cs231n/datasets directory\n",
        "!cp -r cifar-10-batches-py cs231n/datasets/"
      ],
      "execution_count": 27,
      "outputs": []
    },
    {
      "cell_type": "code",
      "metadata": {
        "tags": [
          "pdf-ignore"
        ],
        "id": "S4YPYtGU6GKh",
        "colab_type": "code",
        "colab": {
          "base_uri": "https://localhost:8080/",
          "height": 52
        },
        "outputId": "b62864b0-8724-4487-9b96-a7cb758c4fb4"
      },
      "source": [
        "# As usual, a bit of setup\n",
        "from __future__ import print_function\n",
        "import time\n",
        "import numpy as np\n",
        "import matplotlib.pyplot as plt\n",
        "from cs231n.classifiers.fc_net import *\n",
        "from cs231n.data_utils import get_CIFAR10_data\n",
        "from cs231n.gradient_check import eval_numerical_gradient, eval_numerical_gradient_array\n",
        "from cs231n.solver import Solver\n",
        "\n",
        "%matplotlib inline\n",
        "plt.rcParams['figure.figsize'] = (10.0, 8.0) # set default size of plots\n",
        "plt.rcParams['image.interpolation'] = 'nearest'\n",
        "plt.rcParams['image.cmap'] = 'gray'\n",
        "\n",
        "# for auto-reloading external modules\n",
        "# see http://stackoverflow.com/questions/1907993/autoreload-of-modules-in-ipython\n",
        "%load_ext autoreload\n",
        "%autoreload 2\n",
        "\n",
        "def rel_error(x, y):\n",
        "  \"\"\" returns relative error \"\"\"\n",
        "  return np.max(np.abs(x - y) / (np.maximum(1e-8, np.abs(x) + np.abs(y))))"
      ],
      "execution_count": 38,
      "outputs": [
        {
          "output_type": "stream",
          "text": [
            "The autoreload extension is already loaded. To reload it, use:\n",
            "  %reload_ext autoreload\n"
          ],
          "name": "stdout"
        }
      ]
    },
    {
      "cell_type": "code",
      "metadata": {
        "tags": [
          "pdf-ignore"
        ],
        "id": "HTm0_5GI6GKl",
        "colab_type": "code",
        "colab": {
          "base_uri": "https://localhost:8080/",
          "height": 124
        },
        "outputId": "e5f84317-4fb8-447c-c2c9-9e3236e33411"
      },
      "source": [
        "# Load the (preprocessed) CIFAR10 data.\n",
        "\n",
        "data = get_CIFAR10_data()\n",
        "for k, v in list(data.items()):\n",
        "  print(('%s: ' % k, v.shape))"
      ],
      "execution_count": 28,
      "outputs": [
        {
          "output_type": "stream",
          "text": [
            "('X_train: ', (49000, 3, 32, 32))\n",
            "('y_train: ', (49000,))\n",
            "('X_val: ', (1000, 3, 32, 32))\n",
            "('y_val: ', (1000,))\n",
            "('X_test: ', (1000, 3, 32, 32))\n",
            "('y_test: ', (1000,))\n"
          ],
          "name": "stdout"
        }
      ]
    },
    {
      "cell_type": "markdown",
      "metadata": {
        "id": "IyQQ5Uwu6GKq",
        "colab_type": "text"
      },
      "source": [
        "# Affine layer: foward\n",
        "Open the file `cs231n/layers.py` and implement the `affine_forward` function.\n",
        "\n",
        "Once you are done you can test your implementaion by running the following:"
      ]
    },
    {
      "cell_type": "code",
      "metadata": {
        "id": "0XQ9AQZA6GKr",
        "colab_type": "code",
        "colab": {
          "base_uri": "https://localhost:8080/",
          "height": 52
        },
        "outputId": "2e1e70a1-1bb1-432f-d690-db3b295e4f2d"
      },
      "source": [
        "# Test the affine_forward function\n",
        "\n",
        "num_inputs = 2\n",
        "input_shape = (4, 5, 6)\n",
        "output_dim = 3\n",
        "\n",
        "input_size = num_inputs * np.prod(input_shape)\n",
        "weight_size = output_dim * np.prod(input_shape)\n",
        "\n",
        "x = np.linspace(-0.1, 0.5, num=input_size).reshape(num_inputs, *input_shape)\n",
        "w = np.linspace(-0.2, 0.3, num=weight_size).reshape(np.prod(input_shape), output_dim)\n",
        "b = np.linspace(-0.3, 0.1, num=output_dim)\n",
        "\n",
        "out, _ = affine_forward(x, w, b)\n",
        "correct_out = np.array([[ 1.49834967,  1.70660132,  1.91485297],\n",
        "                        [ 3.25553199,  3.5141327,   3.77273342]])\n",
        "\n",
        "# Compare your output with ours. The error should be around e-9 or less.\n",
        "print('Testing affine_forward function:')\n",
        "print('difference: ', rel_error(out, correct_out))"
      ],
      "execution_count": 29,
      "outputs": [
        {
          "output_type": "stream",
          "text": [
            "Testing affine_forward function:\n",
            "difference:  9.769849468192957e-10\n"
          ],
          "name": "stdout"
        }
      ]
    },
    {
      "cell_type": "markdown",
      "metadata": {
        "id": "AfhlI0YD6GKw",
        "colab_type": "text"
      },
      "source": [
        "# Affine layer: backward\n",
        "Now implement the `affine_backward` function and test your implementation using numeric gradient checking."
      ]
    },
    {
      "cell_type": "code",
      "metadata": {
        "id": "dcS91e6g6GKx",
        "colab_type": "code",
        "colab": {
          "base_uri": "https://localhost:8080/",
          "height": 88
        },
        "outputId": "f9b9db04-a40d-4e02-9877-c4a339a637ff"
      },
      "source": [
        "# Test the affine_backward function\n",
        "np.random.seed(231)\n",
        "x = np.random.randn(10, 2, 3)\n",
        "w = np.random.randn(6, 5)\n",
        "b = np.random.randn(5)\n",
        "dout = np.random.randn(10, 5)\n",
        "\n",
        "dx_num = eval_numerical_gradient_array(lambda x: affine_forward(x, w, b)[0], x, dout)\n",
        "dw_num = eval_numerical_gradient_array(lambda w: affine_forward(x, w, b)[0], w, dout)\n",
        "db_num = eval_numerical_gradient_array(lambda b: affine_forward(x, w, b)[0], b, dout)\n",
        "\n",
        "_, cache = affine_forward(x, w, b)\n",
        "dx, dw, db = affine_backward(dout, cache)\n",
        "\n",
        "# The error should be around e-10 or less\n",
        "print('Testing affine_backward function:')\n",
        "print('dx error: ', rel_error(dx_num, dx))\n",
        "print('dw error: ', rel_error(dw_num, dw))\n",
        "print('db error: ', rel_error(db_num, db))"
      ],
      "execution_count": 30,
      "outputs": [
        {
          "output_type": "stream",
          "text": [
            "Testing affine_backward function:\n",
            "dx error:  5.399100368651805e-11\n",
            "dw error:  9.904211865398145e-11\n",
            "db error:  2.4122867568119087e-11\n"
          ],
          "name": "stdout"
        }
      ]
    },
    {
      "cell_type": "markdown",
      "metadata": {
        "id": "EA_8cETh6GK0",
        "colab_type": "text"
      },
      "source": [
        "# ReLU activation: forward\n",
        "Implement the forward pass for the ReLU activation function in the `relu_forward` function and test your implementation using the following:"
      ]
    },
    {
      "cell_type": "code",
      "metadata": {
        "id": "w5GkG0am6GK0",
        "colab_type": "code",
        "colab": {
          "base_uri": "https://localhost:8080/",
          "height": 52
        },
        "outputId": "ad1e5dda-f0e1-4f80-cbe4-8b30f9b868c6"
      },
      "source": [
        "# Test the relu_forward function\n",
        "\n",
        "x = np.linspace(-0.5, 0.5, num=12).reshape(3, 4)\n",
        "\n",
        "out, _ = relu_forward(x)\n",
        "correct_out = np.array([[ 0.,          0.,          0.,          0.,        ],\n",
        "                        [ 0.,          0.,          0.04545455,  0.13636364,],\n",
        "                        [ 0.22727273,  0.31818182,  0.40909091,  0.5,       ]])\n",
        "\n",
        "# Compare your output with ours. The error should be on the order of e-8\n",
        "print('Testing relu_forward function:')\n",
        "print('difference: ', rel_error(out, correct_out))"
      ],
      "execution_count": 31,
      "outputs": [
        {
          "output_type": "stream",
          "text": [
            "Testing relu_forward function:\n",
            "difference:  4.999999798022158e-08\n"
          ],
          "name": "stdout"
        }
      ]
    },
    {
      "cell_type": "markdown",
      "metadata": {
        "id": "OOpz8OTV6GK3",
        "colab_type": "text"
      },
      "source": [
        "# ReLU activation: backward\n",
        "Now implement the backward pass for the ReLU activation function in the `relu_backward` function and test your implementation using numeric gradient checking:"
      ]
    },
    {
      "cell_type": "code",
      "metadata": {
        "id": "RISj1-XY6GK4",
        "colab_type": "code",
        "colab": {
          "base_uri": "https://localhost:8080/",
          "height": 52
        },
        "outputId": "1f5ca953-fbcc-4c7b-f72f-0e4bb3fa9ce7"
      },
      "source": [
        "np.random.seed(231)\n",
        "x = np.random.randn(10, 10)\n",
        "dout = np.random.randn(*x.shape)\n",
        "\n",
        "dx_num = eval_numerical_gradient_array(lambda x: relu_forward(x)[0], x, dout)\n",
        "\n",
        "_, cache = relu_forward(x)\n",
        "dx = relu_backward(dout, cache)\n",
        "\n",
        "# The error should be on the order of e-12\n",
        "print('Testing relu_backward function:')\n",
        "print('dx error: ', rel_error(dx_num, dx))"
      ],
      "execution_count": 32,
      "outputs": [
        {
          "output_type": "stream",
          "text": [
            "Testing relu_backward function:\n",
            "dx error:  1.0\n"
          ],
          "name": "stdout"
        }
      ]
    },
    {
      "cell_type": "markdown",
      "metadata": {
        "tags": [
          "pdf-inline"
        ],
        "id": "_8yXP6716GK7",
        "colab_type": "text"
      },
      "source": [
        "## Inline Question 1: \n",
        "\n",
        "We've only asked you to implement ReLU, but there are a number of different activation functions that one could use in neural networks, each with its pros and cons. In particular, an issue commonly seen with activation functions is getting zero (or close to zero) gradient flow during backpropagation. Which of the following activation functions have this problem? If you consider these functions in the one dimensional case, what types of input would lead to this behaviour?\n",
        "1. Sigmoid\n",
        "2. ReLU\n",
        "3. Leaky ReLU\n",
        "\n",
        "## Answer:\n",
        "ReLU\n"
      ]
    },
    {
      "cell_type": "markdown",
      "metadata": {
        "id": "LF0SNwlJ6GK7",
        "colab_type": "text"
      },
      "source": [
        "# \"Sandwich\" layers\n",
        "There are some common patterns of layers that are frequently used in neural nets. For example, affine layers are frequently followed by a ReLU nonlinearity. To make these common patterns easy, we define several convenience layers in the file `cs231n/layer_utils.py`.\n",
        "\n",
        "For now take a look at the `affine_relu_forward` and `affine_relu_backward` functions, and run the following to numerically gradient check the backward pass:"
      ]
    },
    {
      "cell_type": "code",
      "metadata": {
        "id": "lApBqj_z6GK8",
        "colab_type": "code",
        "colab": {
          "base_uri": "https://localhost:8080/",
          "height": 88
        },
        "outputId": "c286c57d-9a05-4399-bfb2-b79096a24dd1"
      },
      "source": [
        "from cs231n.layer_utils import affine_relu_forward, affine_relu_backward\n",
        "np.random.seed(231)\n",
        "x = np.random.randn(2, 3, 4)\n",
        "w = np.random.randn(12, 10)\n",
        "b = np.random.randn(10)\n",
        "dout = np.random.randn(2, 10)\n",
        "\n",
        "out, cache = affine_relu_forward(x, w, b)\n",
        "dx, dw, db = affine_relu_backward(dout, cache)\n",
        "\n",
        "dx_num = eval_numerical_gradient_array(lambda x: affine_relu_forward(x, w, b)[0], x, dout)\n",
        "dw_num = eval_numerical_gradient_array(lambda w: affine_relu_forward(x, w, b)[0], w, dout)\n",
        "db_num = eval_numerical_gradient_array(lambda b: affine_relu_forward(x, w, b)[0], b, dout)\n",
        "\n",
        "# Relative error should be around e-10 or less\n",
        "print('Testing affine_relu_forward and affine_relu_backward:')\n",
        "print('dx error: ', rel_error(dx_num, dx))\n",
        "print('dw error: ', rel_error(dw_num, dw))\n",
        "print('db error: ', rel_error(db_num, db))"
      ],
      "execution_count": 33,
      "outputs": [
        {
          "output_type": "stream",
          "text": [
            "Testing affine_relu_forward and affine_relu_backward:\n",
            "dx error:  2.299579177309368e-11\n",
            "dw error:  8.162011105764925e-11\n",
            "db error:  7.826724021458994e-12\n"
          ],
          "name": "stdout"
        }
      ]
    },
    {
      "cell_type": "markdown",
      "metadata": {
        "id": "ggXe0SnX6GK_",
        "colab_type": "text"
      },
      "source": [
        "# Loss layers: Softmax and SVM\n",
        "You implemented these loss functions in the last assignment, so we'll give them to you for free here. You should still make sure you understand how they work by looking at the implementations in `cs231n/layers.py`.\n",
        "\n",
        "You can make sure that the implementations are correct by running the following:"
      ]
    },
    {
      "cell_type": "code",
      "metadata": {
        "id": "9U58WFl86GK_",
        "colab_type": "code",
        "colab": {
          "base_uri": "https://localhost:8080/",
          "height": 141
        },
        "outputId": "1ededef4-3ce3-4714-c524-1804bd7295c4"
      },
      "source": [
        "np.random.seed(231)\n",
        "num_classes, num_inputs = 10, 50\n",
        "x = 0.001 * np.random.randn(num_inputs, num_classes)\n",
        "y = np.random.randint(num_classes, size=num_inputs)\n",
        "\n",
        "dx_num = eval_numerical_gradient(lambda x: svm_loss(x, y)[0], x, verbose=False)\n",
        "loss, dx = svm_loss(x, y)\n",
        "\n",
        "# Test svm_loss function. Loss should be around 9 and dx error should be around the order of e-9\n",
        "print('Testing svm_loss:')\n",
        "print('loss: ', loss)\n",
        "print('dx error: ', rel_error(dx_num, dx))\n",
        "\n",
        "dx_num = eval_numerical_gradient(lambda x: softmax_loss(x, y)[0], x, verbose=False)\n",
        "loss, dx = softmax_loss(x, y)\n",
        "\n",
        "# Test softmax_loss function. Loss should be close to 2.3 and dx error should be around e-8\n",
        "print('\\nTesting softmax_loss:')\n",
        "print('loss: ', loss)\n",
        "print('dx error: ', rel_error(dx_num, dx))"
      ],
      "execution_count": 34,
      "outputs": [
        {
          "output_type": "stream",
          "text": [
            "Testing svm_loss:\n",
            "loss:  8.999602749096233\n",
            "dx error:  1.4021566006651672e-09\n",
            "\n",
            "Testing softmax_loss:\n",
            "loss:  2.302545844500738\n",
            "dx error:  9.384673161989355e-09\n"
          ],
          "name": "stdout"
        }
      ]
    },
    {
      "cell_type": "markdown",
      "metadata": {
        "id": "tQqkJXJh6GLC",
        "colab_type": "text"
      },
      "source": [
        "# Two-layer network\n",
        "In the previous assignment you implemented a two-layer neural network in a single monolithic class. Now that you have implemented modular versions of the necessary layers, you will reimplement the two layer network using these modular implementations.\n",
        "\n",
        "Open the file `cs231n/classifiers/fc_net.py` and complete the implementation of the `TwoLayerNet` class. This class will serve as a model for the other networks you will implement in this assignment, so read through it to make sure you understand the API. You can run the cell below to test your implementation."
      ]
    },
    {
      "cell_type": "code",
      "metadata": {
        "id": "DTr0J4236GLD",
        "colab_type": "code",
        "colab": {
          "base_uri": "https://localhost:8080/",
          "height": 248
        },
        "outputId": "92673f96-74ad-4dae-974d-2a981923ed12"
      },
      "source": [
        "np.random.seed(231)\n",
        "N, D, H, C = 3, 5, 50, 7\n",
        "X = np.random.randn(N, D)\n",
        "y = np.random.randint(C, size=N)\n",
        "\n",
        "std = 1e-3\n",
        "model = TwoLayerNet(input_dim=D, hidden_dim=H, num_classes=C, weight_scale=std)\n",
        "\n",
        "print('Testing initialization ... ')\n",
        "W1_std = abs(model.params['W1'].std() - std)\n",
        "b1 = model.params['b1']\n",
        "W2_std = abs(model.params['W2'].std() - std)\n",
        "b2 = model.params['b2']\n",
        "\n",
        "assert W1_std < std / 10, 'First layer weights do not seem right'\n",
        "assert np.all(b1 == 0), 'First layer biases do not seem right'\n",
        "assert W2_std < std / 10, 'Second layer weights do not seem right'\n",
        "assert np.all(b2 == 0), 'Second layer biases do not seem right'\n",
        "\n",
        "print('Testing test-time forward pass ... ')\n",
        "model.params['W1'] = np.linspace(-0.7, 0.3, num=D*H).reshape(D, H)\n",
        "model.params['b1'] = np.linspace(-0.1, 0.9, num=H)\n",
        "model.params['W2'] = np.linspace(-0.3, 0.4, num=H*C).reshape(H, C)\n",
        "model.params['b2'] = np.linspace(-0.9, 0.1, num=C)\n",
        "\n",
        "X = np.linspace(-5.5, 4.5, num=N*D).reshape(D, N).T\n",
        "scores = model.loss(X)\n",
        "correct_scores = np.asarray(\n",
        "  [[11.53165108,  12.2917344,   13.05181771,  13.81190102,  14.57198434, 15.33206765,  16.09215096],\n",
        "   [12.05769098,  12.74614105,  13.43459113,  14.1230412,   14.81149128, 15.49994135,  16.18839143],\n",
        "   [12.58373087,  13.20054771,  13.81736455,  14.43418138,  15.05099822, 15.66781506,  16.2846319 ]])\n",
        "scores_diff = np.abs(scores - correct_scores).sum()\n",
        "assert scores_diff < 1e-6, 'Problem with test-time forward pass'\n",
        "\n",
        "print('Testing training loss (no regularization)')\n",
        "y = np.asarray([0, 5, 1])\n",
        "loss, grads = model.loss(X, y)\n",
        "correct_loss = 3.4702243556\n",
        "assert abs(loss - correct_loss) < 1e-10, 'Problem with training-time loss'\n",
        "\n",
        "model.reg = 1.0\n",
        "loss, grads = model.loss(X, y)\n",
        "correct_loss = 26.5948426952\n",
        "assert abs(loss - correct_loss) < 1e-10, 'Problem with regularization loss'\n",
        "\n",
        "# Errors should be around e-7 or less\n",
        "for reg in [0.0, 0.7]:\n",
        "  print('Running numeric gradient check with reg = ', reg)\n",
        "  model.reg = reg\n",
        "  loss, grads = model.loss(X, y)\n",
        "\n",
        "  for name in sorted(grads):\n",
        "    f = lambda _: model.loss(X, y)[0]\n",
        "    grad_num = eval_numerical_gradient(f, model.params[name], verbose=False)\n",
        "    print('%s relative error: %.2e' % (name, rel_error(grad_num, grads[name])))"
      ],
      "execution_count": 42,
      "outputs": [
        {
          "output_type": "stream",
          "text": [
            "Testing initialization ... \n",
            "Testing test-time forward pass ... \n",
            "Testing training loss (no regularization)\n",
            "Running numeric gradient check with reg =  0.0\n",
            "W1 relative error: 1.83e-08\n",
            "W2 relative error: 3.31e-10\n",
            "b1 relative error: 9.83e-09\n",
            "b2 relative error: 4.33e-10\n",
            "Running numeric gradient check with reg =  0.7\n",
            "W1 relative error: 2.53e-07\n",
            "W2 relative error: 2.85e-08\n",
            "b1 relative error: 1.56e-08\n",
            "b2 relative error: 7.76e-10\n"
          ],
          "name": "stdout"
        }
      ]
    },
    {
      "cell_type": "markdown",
      "metadata": {
        "id": "GcZO9Tle6GLG",
        "colab_type": "text"
      },
      "source": [
        "# Solver\n",
        "In the previous assignment, the logic for training models was coupled to the models themselves. Following a more modular design, for this assignment we have split the logic for training models into a separate class.\n",
        "\n",
        "Open the file `cs231n/solver.py` and read through it to familiarize yourself with the API. After doing so, use a `Solver` instance to train a `TwoLayerNet` that achieves at least `50%` accuracy on the validation set."
      ]
    },
    {
      "cell_type": "code",
      "metadata": {
        "id": "MFamDITB6GLG",
        "colab_type": "code",
        "colab": {
          "base_uri": "https://localhost:8080/",
          "height": 1000
        },
        "outputId": "ab51e431-6df2-4a47-f767-f21191074d7c"
      },
      "source": [
        "model = TwoLayerNet()\n",
        "solver = None\n",
        "\n",
        "##############################################################################\n",
        "# TODO: Use a Solver instance to train a TwoLayerNet that achieves at least  #\n",
        "# 50% accuracy on the validation set.                                        #\n",
        "##############################################################################\n",
        "# *****START OF YOUR CODE (DO NOT DELETE/MODIFY THIS LINE)*****\n",
        "\n",
        "model = TwoLayerNet(input_dim=3*32*32, hidden_dim=100, num_classes=10, weight_scale=1e-3, reg=0.7)\n",
        "solver = Solver(model, data, update_rule='sgd', optim_config={'learning_rate': 1e-3,},\n",
        "                lr_decay=0.95,\n",
        "                num_epochs=10, batch_size=100,\n",
        "                print_every=100)\n",
        "solver.train()\n",
        "\n",
        "# *****END OF YOUR CODE (DO NOT DELETE/MODIFY THIS LINE)*****\n",
        "##############################################################################\n",
        "#                             END OF YOUR CODE                               #\n",
        "##############################################################################"
      ],
      "execution_count": 46,
      "outputs": [
        {
          "output_type": "stream",
          "text": [
            "(Iteration 1 / 4900) loss: 2.409725\n",
            "(Epoch 0 / 10) train acc: 0.142000; val_acc: 0.111000\n",
            "(Iteration 101 / 4900) loss: 1.979541\n",
            "(Iteration 201 / 4900) loss: 1.729713\n",
            "(Iteration 301 / 4900) loss: 1.722957\n",
            "(Iteration 401 / 4900) loss: 1.623974\n",
            "(Epoch 1 / 10) train acc: 0.452000; val_acc: 0.441000\n",
            "(Iteration 501 / 4900) loss: 1.667962\n",
            "(Iteration 601 / 4900) loss: 1.648136\n",
            "(Iteration 701 / 4900) loss: 1.862992\n",
            "(Iteration 801 / 4900) loss: 1.710428\n",
            "(Iteration 901 / 4900) loss: 1.582827\n",
            "(Epoch 2 / 10) train acc: 0.519000; val_acc: 0.467000\n",
            "(Iteration 1001 / 4900) loss: 1.636011\n",
            "(Iteration 1101 / 4900) loss: 1.611257\n",
            "(Iteration 1201 / 4900) loss: 1.604456\n",
            "(Iteration 1301 / 4900) loss: 1.554664\n",
            "(Iteration 1401 / 4900) loss: 1.763560\n",
            "(Epoch 3 / 10) train acc: 0.488000; val_acc: 0.453000\n",
            "(Iteration 1501 / 4900) loss: 1.453866\n",
            "(Iteration 1601 / 4900) loss: 1.587197\n",
            "(Iteration 1701 / 4900) loss: 1.593582\n",
            "(Iteration 1801 / 4900) loss: 1.542774\n",
            "(Iteration 1901 / 4900) loss: 1.388300\n",
            "(Epoch 4 / 10) train acc: 0.508000; val_acc: 0.474000\n",
            "(Iteration 2001 / 4900) loss: 1.704575\n",
            "(Iteration 2101 / 4900) loss: 1.635720\n",
            "(Iteration 2201 / 4900) loss: 1.623880\n",
            "(Iteration 2301 / 4900) loss: 1.289468\n",
            "(Iteration 2401 / 4900) loss: 1.539203\n",
            "(Epoch 5 / 10) train acc: 0.544000; val_acc: 0.502000\n",
            "(Iteration 2501 / 4900) loss: 1.401688\n",
            "(Iteration 2601 / 4900) loss: 1.327143\n",
            "(Iteration 2701 / 4900) loss: 1.611242\n",
            "(Iteration 2801 / 4900) loss: 1.659377\n",
            "(Iteration 2901 / 4900) loss: 1.435309\n",
            "(Epoch 6 / 10) train acc: 0.534000; val_acc: 0.494000\n",
            "(Iteration 3001 / 4900) loss: 1.448805\n",
            "(Iteration 3101 / 4900) loss: 1.672606\n",
            "(Iteration 3201 / 4900) loss: 1.684152\n",
            "(Iteration 3301 / 4900) loss: 1.601742\n",
            "(Iteration 3401 / 4900) loss: 1.515678\n",
            "(Epoch 7 / 10) train acc: 0.575000; val_acc: 0.504000\n",
            "(Iteration 3501 / 4900) loss: 1.378830\n",
            "(Iteration 3601 / 4900) loss: 1.302420\n",
            "(Iteration 3701 / 4900) loss: 1.305164\n",
            "(Iteration 3801 / 4900) loss: 1.518509\n",
            "(Iteration 3901 / 4900) loss: 1.597104\n",
            "(Epoch 8 / 10) train acc: 0.558000; val_acc: 0.484000\n",
            "(Iteration 4001 / 4900) loss: 1.439826\n",
            "(Iteration 4101 / 4900) loss: 1.357389\n",
            "(Iteration 4201 / 4900) loss: 1.372046\n",
            "(Iteration 4301 / 4900) loss: 1.518308\n",
            "(Iteration 4401 / 4900) loss: 1.409355\n",
            "(Epoch 9 / 10) train acc: 0.541000; val_acc: 0.489000\n",
            "(Iteration 4501 / 4900) loss: 1.500151\n",
            "(Iteration 4601 / 4900) loss: 1.581048\n",
            "(Iteration 4701 / 4900) loss: 1.296291\n",
            "(Iteration 4801 / 4900) loss: 1.497962\n",
            "(Epoch 10 / 10) train acc: 0.568000; val_acc: 0.503000\n"
          ],
          "name": "stdout"
        }
      ]
    },
    {
      "cell_type": "code",
      "metadata": {
        "id": "LUoh2luc6GLJ",
        "colab_type": "code",
        "colab": {
          "base_uri": "https://localhost:8080/",
          "height": 730
        },
        "outputId": "7a395930-a837-42d9-e10b-30c53b8ebc91"
      },
      "source": [
        "# Run this cell to visualize training loss and train / val accuracy\n",
        "\n",
        "plt.subplot(2, 1, 1)\n",
        "plt.title('Training loss')\n",
        "plt.plot(solver.loss_history, 'o')\n",
        "plt.xlabel('Iteration')\n",
        "\n",
        "plt.subplot(2, 1, 2)\n",
        "plt.title('Accuracy')\n",
        "plt.plot(solver.train_acc_history, '-o', label='train')\n",
        "plt.plot(solver.val_acc_history, '-o', label='val')\n",
        "plt.plot([0.5] * len(solver.val_acc_history), 'k--')\n",
        "plt.xlabel('Epoch')\n",
        "plt.legend(loc='lower right')\n",
        "plt.gcf().set_size_inches(15, 12)\n",
        "plt.show()"
      ],
      "execution_count": 47,
      "outputs": [
        {
          "output_type": "display_data",
          "data": {
            "image/png": "[encoded data removed]",
            "text/plain": [
              "<Figure size 1080x864 with 2 Axes>"
            ]
          },
          "metadata": {
            "tags": [],
            "needs_background": "light"
          }
        }
      ]
    },
    {
      "cell_type": "markdown",
      "metadata": {
        "id": "3Huaunjf6GLL",
        "colab_type": "text"
      },
      "source": [
        "# Multilayer network\n",
        "Next you will implement a fully-connected network with an arbitrary number of hidden layers.\n",
        "\n",
        "Read through the `FullyConnectedNet` class in the file `cs231n/classifiers/fc_net.py`.\n",
        "\n",
        "Implement the initialization, the forward pass, and the backward pass. For the moment don't worry about implementing dropout or batch/layer normalization; we will add those features soon."
      ]
    },
    {
      "cell_type": "markdown",
      "metadata": {
        "id": "tasrCamp6GLM",
        "colab_type": "text"
      },
      "source": [
        "## Initial loss and gradient check\n",
        "\n",
        "As a sanity check, run the following to check the initial loss and to gradient check the network both with and without regularization. Do the initial losses seem reasonable?\n",
        "\n",
        "For gradient checking, you should expect to see errors around 1e-7 or less."
      ]
    },
    {
      "cell_type": "code",
      "metadata": {
        "id": "IIncDI2T6GLM",
        "colab_type": "code",
        "colab": {
          "base_uri": "https://localhost:8080/",
          "height": 301
        },
        "outputId": "9902ca56-97a9-4fbb-e9ae-8a3fcd0ac8e9"
      },
      "source": [
        "np.random.seed(231)\n",
        "N, D, H1, H2, C = 2, 15, 20, 30, 10\n",
        "X = np.random.randn(N, D)\n",
        "y = np.random.randint(C, size=(N,))\n",
        "\n",
        "for reg in [0, 3.14]:\n",
        "  print('Running check with reg = ', reg)\n",
        "  model = FullyConnectedNet([H1, H2], input_dim=D, num_classes=C,\n",
        "                            reg=reg, weight_scale=5e-2, dtype=np.float64)\n",
        "\n",
        "  loss, grads = model.loss(X, y)\n",
        "  print('Initial loss: ', loss)\n",
        "  \n",
        "  # Most of the errors should be on the order of e-7 or smaller.   \n",
        "  # NOTE: It is fine however to see an error for W2 on the order of e-5\n",
        "  # for the check when reg = 0.0\n",
        "  for name in sorted(grads):\n",
        "    f = lambda _: model.loss(X, y)[0]\n",
        "    grad_num = eval_numerical_gradient(f, model.params[name], verbose=False, h=1e-5)\n",
        "    print('%s relative error: %.2e' % (name, rel_error(grad_num, grads[name])))"
      ],
      "execution_count": 50,
      "outputs": [
        {
          "output_type": "stream",
          "text": [
            "Running check with reg =  0\n",
            "Initial loss:  2.3004790897684924\n",
            "W1 relative error: 1.48e-07\n",
            "W2 relative error: 2.21e-05\n",
            "W3 relative error: 3.53e-07\n",
            "b1 relative error: 5.38e-09\n",
            "b2 relative error: 2.09e-09\n",
            "b3 relative error: 5.80e-11\n",
            "Running check with reg =  3.14\n",
            "Initial loss:  7.052114776533016\n",
            "W1 relative error: 6.86e-09\n",
            "W2 relative error: 3.52e-08\n",
            "W3 relative error: 1.32e-08\n",
            "b1 relative error: 1.48e-08\n",
            "b2 relative error: 1.72e-09\n",
            "b3 relative error: 1.80e-10\n"
          ],
          "name": "stdout"
        }
      ]
    },
    {
      "cell_type": "markdown",
      "metadata": {
        "id": "I_ZM92VZ6GLO",
        "colab_type": "text"
      },
      "source": [
        "As another sanity check, make sure you can overfit a small dataset of 50 images. First we will try a three-layer network with 100 units in each hidden layer. In the following cell, tweak the **learning rate** and **weight initialization scale** to overfit and achieve 100% training accuracy within 20 epochs."
      ]
    },
    {
      "cell_type": "code",
      "metadata": {
        "scrolled": false,
        "id": "DVxt5u7Z6GLP",
        "colab_type": "code",
        "colab": {
          "base_uri": "https://localhost:8080/",
          "height": 958
        },
        "outputId": "4a0efaab-9cdd-4f46-e319-cef687409b17"
      },
      "source": [
        "# TODO: Use a three-layer Net to overfit 50 training examples by \n",
        "# tweaking just the learning rate and initialization scale.\n",
        "\n",
        "num_train = 50\n",
        "small_data = {\n",
        "  'X_train': data['X_train'][:num_train],\n",
        "  'y_train': data['y_train'][:num_train],\n",
        "  'X_val': data['X_val'],\n",
        "  'y_val': data['y_val'],\n",
        "}\n",
        "\n",
        "weight_scale = 1      # Experiment with this!\n",
        "learning_rate = 1e-4  # Experiment with this!\n",
        "model = FullyConnectedNet([100, 100], weight_scale=weight_scale, dtype=np.float64)\n",
        "solver = Solver(model, small_data, print_every=10, num_epochs=20, batch_size=25,\n",
        "                update_rule='sgd', optim_config={ 'learning_rate': learning_rate, })\n",
        "solver.train()\n",
        "\n",
        "plt.plot(solver.loss_history, 'o')\n",
        "plt.title('Training loss history')\n",
        "plt.xlabel('Iteration')\n",
        "plt.ylabel('Training loss')\n",
        "plt.show()"
      ],
      "execution_count": 52,
      "outputs": [
        {
          "output_type": "stream",
          "text": [
            "(Iteration 1 / 40) loss: 271786.743043\n",
            "(Epoch 0 / 20) train acc: 0.240000; val_acc: 0.096000\n",
            "(Epoch 1 / 20) train acc: 0.300000; val_acc: 0.136000\n",
            "(Epoch 2 / 20) train acc: 0.540000; val_acc: 0.155000\n",
            "(Epoch 3 / 20) train acc: 0.740000; val_acc: 0.132000\n",
            "(Epoch 4 / 20) train acc: 0.780000; val_acc: 0.137000\n",
            "(Epoch 5 / 20) train acc: 0.720000; val_acc: 0.140000\n",
            "(Iteration 11 / 40) loss: 14806.973572\n",
            "(Epoch 6 / 20) train acc: 0.860000; val_acc: 0.162000\n",
            "(Epoch 7 / 20) train acc: 1.000000; val_acc: 0.152000\n",
            "(Epoch 8 / 20) train acc: 1.000000; val_acc: 0.152000\n",
            "(Epoch 9 / 20) train acc: 1.000000; val_acc: 0.152000\n",
            "(Epoch 10 / 20) train acc: 1.000000; val_acc: 0.152000\n",
            "(Iteration 21 / 40) loss: 0.000000\n",
            "(Epoch 11 / 20) train acc: 1.000000; val_acc: 0.152000\n",
            "(Epoch 12 / 20) train acc: 1.000000; val_acc: 0.152000\n",
            "(Epoch 13 / 20) train acc: 1.000000; val_acc: 0.152000\n",
            "(Epoch 14 / 20) train acc: 1.000000; val_acc: 0.152000\n",
            "(Epoch 15 / 20) train acc: 1.000000; val_acc: 0.152000\n",
            "(Iteration 31 / 40) loss: 0.000000\n",
            "(Epoch 16 / 20) train acc: 1.000000; val_acc: 0.152000\n",
            "(Epoch 17 / 20) train acc: 1.000000; val_acc: 0.152000\n",
            "(Epoch 18 / 20) train acc: 1.000000; val_acc: 0.152000\n",
            "(Epoch 19 / 20) train acc: 1.000000; val_acc: 0.152000\n",
            "(Epoch 20 / 20) train acc: 1.000000; val_acc: 0.152000\n"
          ],
          "name": "stdout"
        },
        {
          "output_type": "display_data",
          "data": {
            "image/png": "[encoded data removed]",
            "text/plain": [
              "<Figure size 720x576 with 1 Axes>"
            ]
          },
          "metadata": {
            "tags": [],
            "needs_background": "light"
          }
        }
      ]
    },
    {
      "cell_type": "markdown",
      "metadata": {
        "id": "BWl17C6j6GLS",
        "colab_type": "text"
      },
      "source": [
        "Now try to use a five-layer network with 100 units on each layer to overfit 50 training examples. Again, you will have to adjust the learning rate and weight initialization scale, but you should be able to achieve 100% training accuracy within 20 epochs."
      ]
    },
    {
      "cell_type": "code",
      "metadata": {
        "id": "RLPoQiR_6GLS",
        "colab_type": "code",
        "colab": {
          "base_uri": "https://localhost:8080/",
          "height": 958
        },
        "outputId": "360e5fd9-7e26-45fd-9a14-330d12f2dd5f"
      },
      "source": [
        "# TODO: Use a five-layer Net to overfit 50 training examples by \n",
        "# tweaking just the learning rate and initialization scale.\n",
        "\n",
        "num_train = 50\n",
        "small_data = {\n",
        "  'X_train': data['X_train'][:num_train],\n",
        "  'y_train': data['y_train'][:num_train],\n",
        "  'X_val': data['X_val'],\n",
        "  'y_val': data['y_val'],\n",
        "}\n",
        "\n",
        "learning_rate = 2e-3  # Experiment with this!\n",
        "weight_scale = 1e-1   # Experiment with this!\n",
        "model = FullyConnectedNet([100, 100, 100, 100],\n",
        "                weight_scale=weight_scale, dtype=np.float64)\n",
        "solver = Solver(model, small_data,\n",
        "                print_every=10, num_epochs=20, batch_size=25,\n",
        "                update_rule='sgd',\n",
        "                optim_config={\n",
        "                  'learning_rate': learning_rate,\n",
        "                }\n",
        "         )\n",
        "solver.train()\n",
        "\n",
        "plt.plot(solver.loss_history, 'o')\n",
        "plt.title('Training loss history')\n",
        "plt.xlabel('Iteration')\n",
        "plt.ylabel('Training loss')\n",
        "plt.show()"
      ],
      "execution_count": 54,
      "outputs": [
        {
          "output_type": "stream",
          "text": [
            "(Iteration 1 / 40) loss: 114.630823\n",
            "(Epoch 0 / 20) train acc: 0.220000; val_acc: 0.109000\n",
            "(Epoch 1 / 20) train acc: 0.200000; val_acc: 0.100000\n",
            "(Epoch 2 / 20) train acc: 0.280000; val_acc: 0.123000\n",
            "(Epoch 3 / 20) train acc: 0.380000; val_acc: 0.119000\n",
            "(Epoch 4 / 20) train acc: 0.680000; val_acc: 0.130000\n",
            "(Epoch 5 / 20) train acc: 0.900000; val_acc: 0.146000\n",
            "(Iteration 11 / 40) loss: 3.756777\n",
            "(Epoch 6 / 20) train acc: 0.960000; val_acc: 0.147000\n",
            "(Epoch 7 / 20) train acc: 1.000000; val_acc: 0.148000\n",
            "(Epoch 8 / 20) train acc: 1.000000; val_acc: 0.148000\n",
            "(Epoch 9 / 20) train acc: 1.000000; val_acc: 0.148000\n",
            "(Epoch 10 / 20) train acc: 1.000000; val_acc: 0.148000\n",
            "(Iteration 21 / 40) loss: 0.000027\n",
            "(Epoch 11 / 20) train acc: 1.000000; val_acc: 0.148000\n",
            "(Epoch 12 / 20) train acc: 1.000000; val_acc: 0.148000\n",
            "(Epoch 13 / 20) train acc: 1.000000; val_acc: 0.148000\n",
            "(Epoch 14 / 20) train acc: 1.000000; val_acc: 0.148000\n",
            "(Epoch 15 / 20) train acc: 1.000000; val_acc: 0.148000\n",
            "(Iteration 31 / 40) loss: 0.000269\n",
            "(Epoch 16 / 20) train acc: 1.000000; val_acc: 0.148000\n",
            "(Epoch 17 / 20) train acc: 1.000000; val_acc: 0.148000\n",
            "(Epoch 18 / 20) train acc: 1.000000; val_acc: 0.148000\n",
            "(Epoch 19 / 20) train acc: 1.000000; val_acc: 0.148000\n",
            "(Epoch 20 / 20) train acc: 1.000000; val_acc: 0.149000\n"
          ],
          "name": "stdout"
        },
        {
          "output_type": "display_data",
          "data": {
            "image/png": "[encoded data removed]",
            "text/plain": [
              "<Figure size 720x576 with 1 Axes>"
            ]
          },
          "metadata": {
            "tags": [],
            "needs_background": "light"
          }
        }
      ]
    },
    {
      "cell_type": "markdown",
      "metadata": {
        "tags": [
          "pdf-inline"
        ],
        "id": "wj_3l-mq6GLU",
        "colab_type": "text"
      },
      "source": [
        "## Inline Question 2: \n",
        "Did you notice anything about the comparative difficulty of training the three-layer net vs training the five layer net? In particular, based on your experience, which network seemed more sensitive to the initialization scale? Why do you think that is the case?\n",
        "\n",
        "## Answer:\n",
        "second is more sensitive\n"
      ]
    },
    {
      "cell_type": "markdown",
      "metadata": {
        "id": "LWOFLEbS6GLV",
        "colab_type": "text"
      },
      "source": [
        "# Update rules\n",
        "So far we have used vanilla stochastic gradient descent (SGD) as our update rule. More sophisticated update rules can make it easier to train deep networks. We will implement a few of the most commonly used update rules and compare them to vanilla SGD."
      ]
    },
    {
      "cell_type": "markdown",
      "metadata": {
        "id": "VGM0-OIZ6GLW",
        "colab_type": "text"
      },
      "source": [
        "# SGD+Momentum\n",
        "Stochastic gradient descent with momentum is a widely used update rule that tends to make deep networks converge faster than vanilla stochastic gradient descent. See the Momentum Update section at http://cs231n.github.io/neural-networks-3/#sgd for more information.\n",
        "\n",
        "Open the file `cs231n/optim.py` and read the documentation at the top of the file to make sure you understand the API. Implement the SGD+momentum update rule in the function `sgd_momentum` and run the following to check your implementation. You should see errors less than e-8."
      ]
    },
    {
      "cell_type": "code",
      "metadata": {
        "id": "lexLP9196GLW",
        "colab_type": "code",
        "colab": {
          "base_uri": "https://localhost:8080/",
          "height": 52
        },
        "outputId": "7153137c-6879-4927-80ba-4b51c191aab2"
      },
      "source": [
        "from cs231n.optim import sgd_momentum\n",
        "\n",
        "N, D = 4, 5\n",
        "w = np.linspace(-0.4, 0.6, num=N*D).reshape(N, D)\n",
        "dw = np.linspace(-0.6, 0.4, num=N*D).reshape(N, D)\n",
        "v = np.linspace(0.6, 0.9, num=N*D).reshape(N, D)\n",
        "\n",
        "config = {'learning_rate': 1e-3, 'velocity': v}\n",
        "next_w, _ = sgd_momentum(w, dw, config=config)\n",
        "\n",
        "expected_next_w = np.asarray([\n",
        "  [ 0.1406,      0.20738947,  0.27417895,  0.34096842,  0.40775789],\n",
        "  [ 0.47454737,  0.54133684,  0.60812632,  0.67491579,  0.74170526],\n",
        "  [ 0.80849474,  0.87528421,  0.94207368,  1.00886316,  1.07565263],\n",
        "  [ 1.14244211,  1.20923158,  1.27602105,  1.34281053,  1.4096    ]])\n",
        "expected_velocity = np.asarray([\n",
        "  [ 0.5406,      0.55475789,  0.56891579, 0.58307368,  0.59723158],\n",
        "  [ 0.61138947,  0.62554737,  0.63970526,  0.65386316,  0.66802105],\n",
        "  [ 0.68217895,  0.69633684,  0.71049474,  0.72465263,  0.73881053],\n",
        "  [ 0.75296842,  0.76712632,  0.78128421,  0.79544211,  0.8096    ]])\n",
        "\n",
        "# Should see relative errors around e-8 or less\n",
        "print('next_w error: ', rel_error(next_w, expected_next_w))\n",
        "print('velocity error: ', rel_error(expected_velocity, config['velocity']))"
      ],
      "execution_count": 55,
      "outputs": [
        {
          "output_type": "stream",
          "text": [
            "next_w error:  8.882347033505819e-09\n",
            "velocity error:  4.269287743278663e-09\n"
          ],
          "name": "stdout"
        }
      ]
    },
    {
      "cell_type": "markdown",
      "metadata": {
        "id": "vF1F5N4L6GLZ",
        "colab_type": "text"
      },
      "source": [
        "Once you have done so, run the following to train a six-layer network with both SGD and SGD+momentum. You should see the SGD+momentum update rule converge faster."
      ]
    },
    {
      "cell_type": "code",
      "metadata": {
        "scrolled": false,
        "id": "EKLUxhYb6GLa",
        "colab_type": "code",
        "colab": {
          "base_uri": "https://localhost:8080/",
          "height": 1000
        },
        "outputId": "afc6581f-85eb-4727-c32f-bd131a712a27"
      },
      "source": [
        "num_train = 4000\n",
        "small_data = {\n",
        "  'X_train': data['X_train'][:num_train],\n",
        "  'y_train': data['y_train'][:num_train],\n",
        "  'X_val': data['X_val'],\n",
        "  'y_val': data['y_val'],\n",
        "}\n",
        "\n",
        "solvers = {}\n",
        "\n",
        "for update_rule in ['sgd', 'sgd_momentum']:\n",
        "  print('running with ', update_rule)\n",
        "  model = FullyConnectedNet([100, 100, 100, 100, 100], weight_scale=5e-2)\n",
        "\n",
        "  solver = Solver(model, small_data,\n",
        "                  num_epochs=5, batch_size=100,\n",
        "                  update_rule=update_rule,\n",
        "                  optim_config={\n",
        "                    'learning_rate': 5e-3,\n",
        "                  },\n",
        "                  verbose=True)\n",
        "  solvers[update_rule] = solver\n",
        "  solver.train()\n",
        "  print()\n",
        "\n",
        "plt.subplot(3, 1, 1)\n",
        "plt.title('Training loss')\n",
        "plt.xlabel('Iteration')\n",
        "\n",
        "plt.subplot(3, 1, 2)\n",
        "plt.title('Training accuracy')\n",
        "plt.xlabel('Epoch')\n",
        "\n",
        "plt.subplot(3, 1, 3)\n",
        "plt.title('Validation accuracy')\n",
        "plt.xlabel('Epoch')\n",
        "\n",
        "for update_rule, solver in solvers.items():\n",
        "  plt.subplot(3, 1, 1)\n",
        "  plt.plot(solver.loss_history, 'o', label=\"loss_%s\" % update_rule)\n",
        "  \n",
        "  plt.subplot(3, 1, 2)\n",
        "  plt.plot(solver.train_acc_history, '-o', label=\"train_acc_%s\" % update_rule)\n",
        "\n",
        "  plt.subplot(3, 1, 3)\n",
        "  plt.plot(solver.val_acc_history, '-o', label=\"val_acc_%s\" % update_rule)\n",
        "  \n",
        "for i in [1, 2, 3]:\n",
        "  plt.subplot(3, 1, i)\n",
        "  plt.legend(loc='upper center', ncol=4)\n",
        "plt.gcf().set_size_inches(15, 15)\n",
        "plt.show()"
      ],
      "execution_count": 56,
      "outputs": [
        {
          "output_type": "stream",
          "text": [
            "running with  sgd\n",
            "(Iteration 1 / 200) loss: 2.496170\n",
            "(Epoch 0 / 5) train acc: 0.113000; val_acc: 0.113000\n",
            "(Iteration 11 / 200) loss: 2.251700\n",
            "(Iteration 21 / 200) loss: 2.193666\n",
            "(Iteration 31 / 200) loss: 2.101912\n",
            "(Epoch 1 / 5) train acc: 0.242000; val_acc: 0.230000\n",
            "(Iteration 41 / 200) loss: 2.002060\n",
            "(Iteration 51 / 200) loss: 2.061017\n",
            "(Iteration 61 / 200) loss: 1.945615\n",
            "(Iteration 71 / 200) loss: 1.979163\n",
            "(Epoch 2 / 5) train acc: 0.292000; val_acc: 0.257000\n",
            "(Iteration 81 / 200) loss: 1.882899\n",
            "(Iteration 91 / 200) loss: 1.859585\n",
            "(Iteration 101 / 200) loss: 2.021723\n",
            "(Iteration 111 / 200) loss: 1.870770\n",
            "(Epoch 3 / 5) train acc: 0.330000; val_acc: 0.293000\n",
            "(Iteration 121 / 200) loss: 1.897859\n",
            "(Iteration 131 / 200) loss: 1.795766\n",
            "(Iteration 141 / 200) loss: 1.817486\n",
            "(Iteration 151 / 200) loss: 1.850377\n",
            "(Epoch 4 / 5) train acc: 0.336000; val_acc: 0.286000\n",
            "(Iteration 161 / 200) loss: 1.869713\n",
            "(Iteration 171 / 200) loss: 1.806132\n",
            "(Iteration 181 / 200) loss: 1.690894\n",
            "(Iteration 191 / 200) loss: 1.749932\n",
            "(Epoch 5 / 5) train acc: 0.365000; val_acc: 0.318000\n",
            "\n",
            "running with  sgd_momentum\n",
            "(Iteration 1 / 200) loss: 2.464194\n",
            "(Epoch 0 / 5) train acc: 0.113000; val_acc: 0.129000\n",
            "(Iteration 11 / 200) loss: 2.181626\n",
            "(Iteration 21 / 200) loss: 1.961554\n",
            "(Iteration 31 / 200) loss: 1.895287\n",
            "(Epoch 1 / 5) train acc: 0.345000; val_acc: 0.290000\n",
            "(Iteration 41 / 200) loss: 1.941502\n",
            "(Iteration 51 / 200) loss: 1.716759\n",
            "(Iteration 61 / 200) loss: 1.647933\n",
            "(Iteration 71 / 200) loss: 1.736918\n",
            "(Epoch 2 / 5) train acc: 0.420000; val_acc: 0.339000\n",
            "(Iteration 81 / 200) loss: 1.752575\n",
            "(Iteration 91 / 200) loss: 1.575729\n",
            "(Iteration 101 / 200) loss: 1.406895\n",
            "(Iteration 111 / 200) loss: 1.565205\n",
            "(Epoch 3 / 5) train acc: 0.461000; val_acc: 0.362000\n",
            "(Iteration 121 / 200) loss: 1.567527\n",
            "(Iteration 131 / 200) loss: 1.398309\n",
            "(Iteration 141 / 200) loss: 1.521102\n",
            "(Iteration 151 / 200) loss: 1.402215\n",
            "(Epoch 4 / 5) train acc: 0.480000; val_acc: 0.350000\n",
            "(Iteration 161 / 200) loss: 1.423262\n",
            "(Iteration 171 / 200) loss: 1.423285\n",
            "(Iteration 181 / 200) loss: 1.476843\n",
            "(Iteration 191 / 200) loss: 1.362934\n",
            "(Epoch 5 / 5) train acc: 0.542000; val_acc: 0.361000\n",
            "\n"
          ],
          "name": "stdout"
        },
        {
          "output_type": "stream",
          "text": [
            "/usr/local/lib/python3.6/dist-packages/ipykernel_launcher.py:39: MatplotlibDeprecationWarning: Adding an axes using the same arguments as a previous axes currently reuses the earlier instance.  In a future version, a new instance will always be created and returned.  Meanwhile, this warning can be suppressed, and the future behavior ensured, by passing a unique label to each axes instance.\n",
            "/usr/local/lib/python3.6/dist-packages/ipykernel_launcher.py:42: MatplotlibDeprecationWarning: Adding an axes using the same arguments as a previous axes currently reuses the earlier instance.  In a future version, a new instance will always be created and returned.  Meanwhile, this warning can be suppressed, and the future behavior ensured, by passing a unique label to each axes instance.\n",
            "/usr/local/lib/python3.6/dist-packages/ipykernel_launcher.py:45: MatplotlibDeprecationWarning: Adding an axes using the same arguments as a previous axes currently reuses the earlier instance.  In a future version, a new instance will always be created and returned.  Meanwhile, this warning can be suppressed, and the future behavior ensured, by passing a unique label to each axes instance.\n",
            "/usr/local/lib/python3.6/dist-packages/ipykernel_launcher.py:49: MatplotlibDeprecationWarning: Adding an axes using the same arguments as a previous axes currently reuses the earlier instance.  In a future version, a new instance will always be created and returned.  Meanwhile, this warning can be suppressed, and the future behavior ensured, by passing a unique label to each axes instance.\n"
          ],
          "name": "stderr"
        },
        {
          "output_type": "display_data",
          "data": {
            "image/png": "[encoded data removed]",
            "text/plain": [
              "<Figure size 1080x1080 with 3 Axes>"
            ]
          },
          "metadata": {
            "tags": [],
            "needs_background": "light"
          }
        }
      ]
    },
    {
      "cell_type": "markdown",
      "metadata": {
        "id": "kVPLPM446GLc",
        "colab_type": "text"
      },
      "source": [
        "# RMSProp and Adam\n",
        "RMSProp [1] and Adam [2] are update rules that set per-parameter learning rates by using a running average of the second moments of gradients.\n",
        "\n",
        "In the file `cs231n/optim.py`, implement the RMSProp update rule in the `rmsprop` function and implement the Adam update rule in the `adam` function, and check your implementations using the tests below.\n",
        "\n",
        "**NOTE:** Please implement the _complete_ Adam update rule (with the bias correction mechanism), not the first simplified version mentioned in the course notes. \n",
        "\n",
        "[1] Tijmen Tieleman and Geoffrey Hinton. \"Lecture 6.5-rmsprop: Divide the gradient by a running average of its recent magnitude.\" COURSERA: Neural Networks for Machine Learning 4 (2012).\n",
        "\n",
        "[2] Diederik Kingma and Jimmy Ba, \"Adam: A Method for Stochastic Optimization\", ICLR 2015."
      ]
    },
    {
      "cell_type": "code",
      "metadata": {
        "id": "ihko2bbI6GLc",
        "colab_type": "code",
        "colab": {
          "base_uri": "https://localhost:8080/",
          "height": 52
        },
        "outputId": "3ed4a7b7-8c1e-4b07-f25a-b3ffd44a5346"
      },
      "source": [
        "# Test RMSProp implementation\n",
        "from cs231n.optim import rmsprop\n",
        "\n",
        "N, D = 4, 5\n",
        "w = np.linspace(-0.4, 0.6, num=N*D).reshape(N, D)\n",
        "dw = np.linspace(-0.6, 0.4, num=N*D).reshape(N, D)\n",
        "cache = np.linspace(0.6, 0.9, num=N*D).reshape(N, D)\n",
        "\n",
        "config = {'learning_rate': 1e-2, 'cache': cache}\n",
        "next_w, _ = rmsprop(w, dw, config=config)\n",
        "\n",
        "expected_next_w = np.asarray([\n",
        "  [-0.39223849, -0.34037513, -0.28849239, -0.23659121, -0.18467247],\n",
        "  [-0.132737,   -0.08078555, -0.02881884,  0.02316247,  0.07515774],\n",
        "  [ 0.12716641,  0.17918792,  0.23122175,  0.28326742,  0.33532447],\n",
        "  [ 0.38739248,  0.43947102,  0.49155973,  0.54365823,  0.59576619]])\n",
        "expected_cache = np.asarray([\n",
        "  [ 0.5976,      0.6126277,   0.6277108,   0.64284931,  0.65804321],\n",
        "  [ 0.67329252,  0.68859723,  0.70395734,  0.71937285,  0.73484377],\n",
        "  [ 0.75037008,  0.7659518,   0.78158892,  0.79728144,  0.81302936],\n",
        "  [ 0.82883269,  0.84469141,  0.86060554,  0.87657507,  0.8926    ]])\n",
        "\n",
        "# You should see relative errors around e-7 or less\n",
        "print('next_w error: ', rel_error(expected_next_w, next_w))\n",
        "print('cache error: ', rel_error(expected_cache, config['cache']))"
      ],
      "execution_count": 57,
      "outputs": [
        {
          "output_type": "stream",
          "text": [
            "next_w error:  9.524687511038133e-08\n",
            "cache error:  2.6477955807156126e-09\n"
          ],
          "name": "stdout"
        }
      ]
    },
    {
      "cell_type": "code",
      "metadata": {
        "id": "Z5EX1D8n6GLe",
        "colab_type": "code",
        "colab": {
          "base_uri": "https://localhost:8080/",
          "height": 70
        },
        "outputId": "6a711a1c-c912-4d3f-f785-008d798d1a60"
      },
      "source": [
        "# Test Adam implementation\n",
        "from cs231n.optim import adam\n",
        "\n",
        "N, D = 4, 5\n",
        "w = np.linspace(-0.4, 0.6, num=N*D).reshape(N, D)\n",
        "dw = np.linspace(-0.6, 0.4, num=N*D).reshape(N, D)\n",
        "m = np.linspace(0.6, 0.9, num=N*D).reshape(N, D)\n",
        "v = np.linspace(0.7, 0.5, num=N*D).reshape(N, D)\n",
        "\n",
        "config = {'learning_rate': 1e-2, 'm': m, 'v': v, 't': 5}\n",
        "next_w, _ = adam(w, dw, config=config)\n",
        "\n",
        "expected_next_w = np.asarray([\n",
        "  [-0.40094747, -0.34836187, -0.29577703, -0.24319299, -0.19060977],\n",
        "  [-0.1380274,  -0.08544591, -0.03286534,  0.01971428,  0.0722929],\n",
        "  [ 0.1248705,   0.17744702,  0.23002243,  0.28259667,  0.33516969],\n",
        "  [ 0.38774145,  0.44031188,  0.49288093,  0.54544852,  0.59801459]])\n",
        "expected_v = np.asarray([\n",
        "  [ 0.69966,     0.68908382,  0.67851319,  0.66794809,  0.65738853,],\n",
        "  [ 0.64683452,  0.63628604,  0.6257431,   0.61520571,  0.60467385,],\n",
        "  [ 0.59414753,  0.58362676,  0.57311152,  0.56260183,  0.55209767,],\n",
        "  [ 0.54159906,  0.53110598,  0.52061845,  0.51013645,  0.49966,   ]])\n",
        "expected_m = np.asarray([\n",
        "  [ 0.48,        0.49947368,  0.51894737,  0.53842105,  0.55789474],\n",
        "  [ 0.57736842,  0.59684211,  0.61631579,  0.63578947,  0.65526316],\n",
        "  [ 0.67473684,  0.69421053,  0.71368421,  0.73315789,  0.75263158],\n",
        "  [ 0.77210526,  0.79157895,  0.81105263,  0.83052632,  0.85      ]])\n",
        "\n",
        "# You should see relative errors around e-7 or less\n",
        "print('next_w error: ', rel_error(expected_next_w, next_w))\n",
        "print('v error: ', rel_error(expected_v, config['v']))\n",
        "print('m error: ', rel_error(expected_m, config['m']))"
      ],
      "execution_count": 58,
      "outputs": [
        {
          "output_type": "stream",
          "text": [
            "next_w error:  1.1395691798535431e-07\n",
            "v error:  4.208314038113071e-09\n",
            "m error:  4.214963193114416e-09\n"
          ],
          "name": "stdout"
        }
      ]
    },
    {
      "cell_type": "markdown",
      "metadata": {
        "id": "PP6WteWp6GLg",
        "colab_type": "text"
      },
      "source": [
        "Once you have debugged your RMSProp and Adam implementations, run the following to train a pair of deep networks using these new update rules:"
      ]
    },
    {
      "cell_type": "code",
      "metadata": {
        "id": "r8svl2tY6GLg",
        "colab_type": "code",
        "colab": {
          "base_uri": "https://localhost:8080/",
          "height": 1000
        },
        "outputId": "427a4074-d37d-4062-c35e-fa44b6c66fd0"
      },
      "source": [
        "learning_rates = {'rmsprop': 1e-4, 'adam': 1e-3}\n",
        "for update_rule in ['adam', 'rmsprop']:\n",
        "  print('running with ', update_rule)\n",
        "  model = FullyConnectedNet([100, 100, 100, 100, 100], weight_scale=5e-2)\n",
        "\n",
        "  solver = Solver(model, small_data,\n",
        "                  num_epochs=5, batch_size=100,\n",
        "                  update_rule=update_rule,\n",
        "                  optim_config={\n",
        "                    'learning_rate': learning_rates[update_rule]\n",
        "                  },\n",
        "                  verbose=True)\n",
        "  solvers[update_rule] = solver\n",
        "  solver.train()\n",
        "  print()\n",
        "\n",
        "plt.subplot(3, 1, 1)\n",
        "plt.title('Training loss')\n",
        "plt.xlabel('Iteration')\n",
        "\n",
        "plt.subplot(3, 1, 2)\n",
        "plt.title('Training accuracy')\n",
        "plt.xlabel('Epoch')\n",
        "\n",
        "plt.subplot(3, 1, 3)\n",
        "plt.title('Validation accuracy')\n",
        "plt.xlabel('Epoch')\n",
        "\n",
        "for update_rule, solver in list(solvers.items()):\n",
        "  plt.subplot(3, 1, 1)\n",
        "  plt.plot(solver.loss_history, 'o', label=update_rule)\n",
        "  \n",
        "  plt.subplot(3, 1, 2)\n",
        "  plt.plot(solver.train_acc_history, '-o', label=update_rule)\n",
        "\n",
        "  plt.subplot(3, 1, 3)\n",
        "  plt.plot(solver.val_acc_history, '-o', label=update_rule)\n",
        "  \n",
        "for i in [1, 2, 3]:\n",
        "  plt.subplot(3, 1, i)\n",
        "  plt.legend(loc='upper center', ncol=4)\n",
        "plt.gcf().set_size_inches(15, 15)\n",
        "plt.show()"
      ],
      "execution_count": 59,
      "outputs": [
        {
          "output_type": "stream",
          "text": [
            "running with  adam\n",
            "(Iteration 1 / 200) loss: 2.695184\n",
            "(Epoch 0 / 5) train acc: 0.122000; val_acc: 0.100000\n",
            "(Iteration 11 / 200) loss: 2.088881\n",
            "(Iteration 21 / 200) loss: 1.920961\n",
            "(Iteration 31 / 200) loss: 1.904891\n",
            "(Epoch 1 / 5) train acc: 0.341000; val_acc: 0.314000\n",
            "(Iteration 41 / 200) loss: 1.736880\n",
            "(Iteration 51 / 200) loss: 1.790275\n",
            "(Iteration 61 / 200) loss: 1.857479\n",
            "(Iteration 71 / 200) loss: 1.593397\n",
            "(Epoch 2 / 5) train acc: 0.468000; val_acc: 0.325000\n",
            "(Iteration 81 / 200) loss: 1.574642\n",
            "(Iteration 91 / 200) loss: 1.481590\n",
            "(Iteration 101 / 200) loss: 1.584653\n",
            "(Iteration 111 / 200) loss: 1.624488\n",
            "(Epoch 3 / 5) train acc: 0.490000; val_acc: 0.340000\n",
            "(Iteration 121 / 200) loss: 1.447033\n",
            "(Iteration 131 / 200) loss: 1.504328\n",
            "(Iteration 141 / 200) loss: 1.287655\n",
            "(Iteration 151 / 200) loss: 1.533027\n",
            "(Epoch 4 / 5) train acc: 0.524000; val_acc: 0.364000\n",
            "(Iteration 161 / 200) loss: 1.437509\n",
            "(Iteration 171 / 200) loss: 1.309675\n",
            "(Iteration 181 / 200) loss: 1.365078\n",
            "(Iteration 191 / 200) loss: 1.156295\n",
            "(Epoch 5 / 5) train acc: 0.594000; val_acc: 0.369000\n",
            "\n",
            "running with  rmsprop\n",
            "(Iteration 1 / 200) loss: 3.102408\n",
            "(Epoch 0 / 5) train acc: 0.129000; val_acc: 0.148000\n",
            "(Iteration 11 / 200) loss: 2.075124\n",
            "(Iteration 21 / 200) loss: 1.754697\n",
            "(Iteration 31 / 200) loss: 1.887541\n",
            "(Epoch 1 / 5) train acc: 0.354000; val_acc: 0.301000\n",
            "(Iteration 41 / 200) loss: 1.925307\n",
            "(Iteration 51 / 200) loss: 1.857176\n",
            "(Iteration 61 / 200) loss: 1.803846\n",
            "(Iteration 71 / 200) loss: 1.574709\n",
            "(Epoch 2 / 5) train acc: 0.420000; val_acc: 0.340000\n",
            "(Iteration 81 / 200) loss: 1.565851\n",
            "(Iteration 91 / 200) loss: 1.714272\n",
            "(Iteration 101 / 200) loss: 1.499124\n",
            "(Iteration 111 / 200) loss: 1.665008\n",
            "(Epoch 3 / 5) train acc: 0.464000; val_acc: 0.343000\n",
            "(Iteration 121 / 200) loss: 1.516007\n",
            "(Iteration 131 / 200) loss: 1.657091\n",
            "(Iteration 141 / 200) loss: 1.386405\n",
            "(Iteration 151 / 200) loss: 1.478539\n",
            "(Epoch 4 / 5) train acc: 0.520000; val_acc: 0.354000\n",
            "(Iteration 161 / 200) loss: 1.486870\n",
            "(Iteration 171 / 200) loss: 1.601205\n",
            "(Iteration 181 / 200) loss: 1.338624\n",
            "(Iteration 191 / 200) loss: 1.396290\n",
            "(Epoch 5 / 5) train acc: 0.553000; val_acc: 0.357000\n",
            "\n"
          ],
          "name": "stdout"
        },
        {
          "output_type": "stream",
          "text": [
            "/usr/local/lib/python3.6/dist-packages/ipykernel_launcher.py:30: MatplotlibDeprecationWarning: Adding an axes using the same arguments as a previous axes currently reuses the earlier instance.  In a future version, a new instance will always be created and returned.  Meanwhile, this warning can be suppressed, and the future behavior ensured, by passing a unique label to each axes instance.\n",
            "/usr/local/lib/python3.6/dist-packages/ipykernel_launcher.py:33: MatplotlibDeprecationWarning: Adding an axes using the same arguments as a previous axes currently reuses the earlier instance.  In a future version, a new instance will always be created and returned.  Meanwhile, this warning can be suppressed, and the future behavior ensured, by passing a unique label to each axes instance.\n",
            "/usr/local/lib/python3.6/dist-packages/ipykernel_launcher.py:36: MatplotlibDeprecationWarning: Adding an axes using the same arguments as a previous axes currently reuses the earlier instance.  In a future version, a new instance will always be created and returned.  Meanwhile, this warning can be suppressed, and the future behavior ensured, by passing a unique label to each axes instance.\n",
            "/usr/local/lib/python3.6/dist-packages/ipykernel_launcher.py:40: MatplotlibDeprecationWarning: Adding an axes using the same arguments as a previous axes currently reuses the earlier instance.  In a future version, a new instance will always be created and returned.  Meanwhile, this warning can be suppressed, and the future behavior ensured, by passing a unique label to each axes instance.\n"
          ],
          "name": "stderr"
        },
        {
          "output_type": "display_data",
          "data": {
            "image/png": "[encoded data removed]",
            "text/plain": [
              "<Figure size 1080x1080 with 3 Axes>"
            ]
          },
          "metadata": {
            "tags": [],
            "needs_background": "light"
          }
        }
      ]
    },
    {
      "cell_type": "markdown",
      "metadata": {
        "tags": [
          "pdf-inline"
        ],
        "id": "stlWJg6x6GLi",
        "colab_type": "text"
      },
      "source": [
        "## Inline Question 3:\n",
        "\n",
        "AdaGrad, like Adam, is a per-parameter optimization method that uses the following update rule:\n",
        "\n",
        "```\n",
        "cache += dw**2\n",
        "w += - learning_rate * dw / (np.sqrt(cache) + eps)\n",
        "```\n",
        "\n",
        "John notices that when he was training a network with AdaGrad that the updates became very small, and that his network was learning slowly. Using your knowledge of the AdaGrad update rule, why do you think the updates would become very small? Would Adam have the same issue?\n",
        "\n",
        "\n",
        "## Answer: \n",
        "Due to weights saturation, it is happening but Adam dont have this shot-comings.\n"
      ]
    },
    {
      "cell_type": "markdown",
      "metadata": {
        "id": "f0u-yz_r6GLj",
        "colab_type": "text"
      },
      "source": [
        "# Train a good model!\n",
        "Train the best fully-connected model that you can on CIFAR-10, storing your best model in the `best_model` variable. We require you to get at least 50% accuracy on the validation set using a fully-connected net.\n",
        "\n",
        "If you are careful it should be possible to get accuracies above 55%, but we don't require it for this part and won't assign extra credit for doing so. Later in the assignment we will ask you to train the best convolutional network that you can on CIFAR-10, and we would prefer that you spend your effort working on convolutional nets rather than fully-connected nets.\n",
        "\n",
        "You might find it useful to complete the `BatchNormalization.ipynb` and `Dropout.ipynb` notebooks before completing this part, since those techniques can help you train powerful models."
      ]
    },
    {
      "cell_type": "code",
      "metadata": {
        "scrolled": false,
        "id": "DF9KwVwO6GLj",
        "colab_type": "code",
        "colab": {
          "base_uri": "https://localhost:8080/",
          "height": 159
        },
        "outputId": "6c1b9f27-eeaa-4568-e850-e52ce1bc6f42"
      },
      "source": [
        "best_model = None\n",
        "best_acc = -1\n",
        "################################################################################\n",
        "# TODO: Train the best FullyConnectedNet that you can on CIFAR-10. You might   #\n",
        "# find batch/layer normalization and dropout useful. Store your best model in  #\n",
        "# the best_model variable.                                                     #\n",
        "################################################################################\n",
        "# *****START OF YOUR CODE (DO NOT DELETE/MODIFY THIS LINE)*****\n",
        "\n",
        "num_train = 20000\n",
        "small_data = {\n",
        "  'X_train': data['X_train'][:num_train],\n",
        "  'y_train': data['y_train'][:num_train],\n",
        "  'X_val': data['X_val'],\n",
        "  'y_val': data['y_val'],\n",
        "}\n",
        "\n",
        "learning_rates = np.logspace(-3.8, -2.8, 8)\n",
        "weight_scales = np.logspace(-2, -1.6, 4)\n",
        "\n",
        "for lr in learning_rates:\n",
        "  for ws in weight_scales:\n",
        "    model = FullyConnectedNet([85, 85, 80, 80], weight_scale=ws, dtype=np.float64)\n",
        "    solver = Solver(model, small_data,\n",
        "                    num_epochs=2, batch_size=200,\n",
        "                    update_rule='adam',\n",
        "                    optim_config={'learning_rate': lr,},\n",
        "                    verbose=False)\n",
        "    solver.train()\n",
        "    if solver.best_val_acc > best_acc:\n",
        "        best_model = model\n",
        "        best_acc = solver.best_val_acc\n",
        "        best_lr, best_ws = (lr, ws)\n",
        "        print(\"best valid acc yet: %f   lr: %e ws: %e\" % (best_acc, lr, ws))\n",
        "\n",
        "# *****END OF YOUR CODE (DO NOT DELETE/MODIFY THIS LINE)*****\n",
        "################################################################################\n",
        "#                              END OF YOUR CODE                                #\n",
        "################################################################################"
      ],
      "execution_count": 60,
      "outputs": [
        {
          "output_type": "stream",
          "text": [
            "best valid acc yet: 0.326000   lr: 1.584893e-04 ws: 1.000000e-02\n",
            "best valid acc yet: 0.376000   lr: 1.584893e-04 ws: 1.359356e-02\n",
            "best valid acc yet: 0.385000   lr: 1.584893e-04 ws: 1.847850e-02\n",
            "best valid acc yet: 0.417000   lr: 1.584893e-04 ws: 2.511886e-02\n",
            "best valid acc yet: 0.424000   lr: 2.202202e-04 ws: 1.847850e-02\n",
            "best valid acc yet: 0.429000   lr: 2.202202e-04 ws: 2.511886e-02\n",
            "best valid acc yet: 0.435000   lr: 3.059950e-04 ws: 2.511886e-02\n",
            "best valid acc yet: 0.446000   lr: 4.251786e-04 ws: 1.847850e-02\n"
          ],
          "name": "stdout"
        }
      ]
    },
    {
      "cell_type": "code",
      "metadata": {
        "id": "rp1X3-Uvenuq",
        "colab_type": "code",
        "colab": {
          "base_uri": "https://localhost:8080/",
          "height": 1000
        },
        "outputId": "09d1d3d1-0e1a-48ea-cd4a-968023cc69cd"
      },
      "source": [
        "print('Engaged with Training Data. Training Using Best Hyperparameters...')\n",
        "\n",
        "best_lr = 8.208914e-04\n",
        "best_ws = 1.847850e-02\n",
        "\n",
        "best_model = FullyConnectedNet([85, 85, 80, 80], weight_scale=best_ws, dtype=np.float64)\n",
        "\n",
        "solver = Solver(best_model, data,\n",
        "                num_epochs=5, batch_size=200,\n",
        "                update_rule='adam',\n",
        "                optim_config={'learning_rate': best_lr,},\n",
        "                verbose=True)\n",
        "solver.train()\n",
        "print(\"BEST VALID ACC: %f\" % solver.best_val_acc)"
      ],
      "execution_count": 61,
      "outputs": [
        {
          "output_type": "stream",
          "text": [
            "Engaged with Training Data. Training Using Best Hyperparameters...\n",
            "(Iteration 1 / 1225) loss: 2.302025\n",
            "(Epoch 0 / 5) train acc: 0.094000; val_acc: 0.106000\n",
            "(Iteration 11 / 1225) loss: 2.140204\n",
            "(Iteration 21 / 1225) loss: 1.959842\n",
            "(Iteration 31 / 1225) loss: 1.914166\n",
            "(Iteration 41 / 1225) loss: 1.921292\n",
            "(Iteration 51 / 1225) loss: 1.736833\n",
            "(Iteration 61 / 1225) loss: 1.671100\n",
            "(Iteration 71 / 1225) loss: 1.795965\n",
            "(Iteration 81 / 1225) loss: 1.771230\n",
            "(Iteration 91 / 1225) loss: 1.675615\n",
            "(Iteration 101 / 1225) loss: 1.779610\n",
            "(Iteration 111 / 1225) loss: 1.703335\n",
            "(Iteration 121 / 1225) loss: 1.757233\n",
            "(Iteration 131 / 1225) loss: 1.731899\n",
            "(Iteration 141 / 1225) loss: 1.619182\n",
            "(Iteration 151 / 1225) loss: 1.619516\n",
            "(Iteration 161 / 1225) loss: 1.654348\n",
            "(Iteration 171 / 1225) loss: 1.700019\n",
            "(Iteration 181 / 1225) loss: 1.624425\n",
            "(Iteration 191 / 1225) loss: 1.504101\n",
            "(Iteration 201 / 1225) loss: 1.636830\n",
            "(Iteration 211 / 1225) loss: 1.587480\n",
            "(Iteration 221 / 1225) loss: 1.495272\n",
            "(Iteration 231 / 1225) loss: 1.438067\n",
            "(Iteration 241 / 1225) loss: 1.465160\n",
            "(Epoch 1 / 5) train acc: 0.452000; val_acc: 0.450000\n",
            "(Iteration 251 / 1225) loss: 1.590331\n",
            "(Iteration 261 / 1225) loss: 1.392389\n",
            "(Iteration 271 / 1225) loss: 1.580733\n",
            "(Iteration 281 / 1225) loss: 1.480218\n",
            "(Iteration 291 / 1225) loss: 1.505955\n",
            "(Iteration 301 / 1225) loss: 1.559721\n",
            "(Iteration 311 / 1225) loss: 1.627214\n",
            "(Iteration 321 / 1225) loss: 1.398121\n",
            "(Iteration 331 / 1225) loss: 1.484869\n",
            "(Iteration 341 / 1225) loss: 1.482468\n",
            "(Iteration 351 / 1225) loss: 1.368000\n",
            "(Iteration 361 / 1225) loss: 1.488565\n",
            "(Iteration 371 / 1225) loss: 1.332953\n",
            "(Iteration 381 / 1225) loss: 1.462674\n",
            "(Iteration 391 / 1225) loss: 1.497973\n",
            "(Iteration 401 / 1225) loss: 1.454626\n",
            "(Iteration 411 / 1225) loss: 1.522943\n",
            "(Iteration 421 / 1225) loss: 1.328620\n",
            "(Iteration 431 / 1225) loss: 1.365228\n",
            "(Iteration 441 / 1225) loss: 1.629964\n",
            "(Iteration 451 / 1225) loss: 1.432279\n",
            "(Iteration 461 / 1225) loss: 1.564375\n",
            "(Iteration 471 / 1225) loss: 1.470919\n",
            "(Iteration 481 / 1225) loss: 1.344219\n",
            "(Epoch 2 / 5) train acc: 0.498000; val_acc: 0.479000\n",
            "(Iteration 491 / 1225) loss: 1.351764\n",
            "(Iteration 501 / 1225) loss: 1.411646\n",
            "(Iteration 511 / 1225) loss: 1.590499\n",
            "(Iteration 521 / 1225) loss: 1.441578\n",
            "(Iteration 531 / 1225) loss: 1.376955\n",
            "(Iteration 541 / 1225) loss: 1.455894\n",
            "(Iteration 551 / 1225) loss: 1.251533\n",
            "(Iteration 561 / 1225) loss: 1.438212\n",
            "(Iteration 571 / 1225) loss: 1.427120\n",
            "(Iteration 581 / 1225) loss: 1.581329\n",
            "(Iteration 591 / 1225) loss: 1.440202\n",
            "(Iteration 601 / 1225) loss: 1.436480\n",
            "(Iteration 611 / 1225) loss: 1.397140\n",
            "(Iteration 621 / 1225) loss: 1.336348\n",
            "(Iteration 631 / 1225) loss: 1.387288\n",
            "(Iteration 641 / 1225) loss: 1.258191\n",
            "(Iteration 651 / 1225) loss: 1.378833\n",
            "(Iteration 661 / 1225) loss: 1.353320\n",
            "(Iteration 671 / 1225) loss: 1.214909\n",
            "(Iteration 681 / 1225) loss: 1.138986\n",
            "(Iteration 691 / 1225) loss: 1.358282\n",
            "(Iteration 701 / 1225) loss: 1.349749\n",
            "(Iteration 711 / 1225) loss: 1.338107\n",
            "(Iteration 721 / 1225) loss: 1.312156\n",
            "(Iteration 731 / 1225) loss: 1.355985\n",
            "(Epoch 3 / 5) train acc: 0.519000; val_acc: 0.480000\n",
            "(Iteration 741 / 1225) loss: 1.353444\n",
            "(Iteration 751 / 1225) loss: 1.198492\n",
            "(Iteration 761 / 1225) loss: 1.263573\n",
            "(Iteration 771 / 1225) loss: 1.273684\n",
            "(Iteration 781 / 1225) loss: 1.284688\n",
            "(Iteration 791 / 1225) loss: 1.390021\n",
            "(Iteration 801 / 1225) loss: 1.359975\n",
            "(Iteration 811 / 1225) loss: 1.238461\n",
            "(Iteration 821 / 1225) loss: 1.448312\n",
            "(Iteration 831 / 1225) loss: 1.287931\n",
            "(Iteration 841 / 1225) loss: 1.321353\n",
            "(Iteration 851 / 1225) loss: 1.231401\n",
            "(Iteration 861 / 1225) loss: 1.343324\n",
            "(Iteration 871 / 1225) loss: 1.237468\n",
            "(Iteration 881 / 1225) loss: 1.269555\n",
            "(Iteration 891 / 1225) loss: 1.407022\n",
            "(Iteration 901 / 1225) loss: 1.273710\n",
            "(Iteration 911 / 1225) loss: 1.323396\n",
            "(Iteration 921 / 1225) loss: 1.123654\n",
            "(Iteration 931 / 1225) loss: 1.149597\n",
            "(Iteration 941 / 1225) loss: 1.293495\n",
            "(Iteration 951 / 1225) loss: 1.315376\n",
            "(Iteration 961 / 1225) loss: 1.401501\n",
            "(Iteration 971 / 1225) loss: 1.290175\n",
            "(Epoch 4 / 5) train acc: 0.548000; val_acc: 0.504000\n",
            "(Iteration 981 / 1225) loss: 1.288165\n",
            "(Iteration 991 / 1225) loss: 1.222626\n",
            "(Iteration 1001 / 1225) loss: 1.288874\n",
            "(Iteration 1011 / 1225) loss: 1.306423\n",
            "(Iteration 1021 / 1225) loss: 1.220884\n",
            "(Iteration 1031 / 1225) loss: 1.164385\n",
            "(Iteration 1041 / 1225) loss: 1.209334\n",
            "(Iteration 1051 / 1225) loss: 1.307931\n",
            "(Iteration 1061 / 1225) loss: 1.331805\n",
            "(Iteration 1071 / 1225) loss: 1.243533\n",
            "(Iteration 1081 / 1225) loss: 1.281734\n",
            "(Iteration 1091 / 1225) loss: 1.329642\n",
            "(Iteration 1101 / 1225) loss: 1.213300\n",
            "(Iteration 1111 / 1225) loss: 1.165685\n",
            "(Iteration 1121 / 1225) loss: 1.299553\n",
            "(Iteration 1131 / 1225) loss: 1.190053\n",
            "(Iteration 1141 / 1225) loss: 1.244512\n",
            "(Iteration 1151 / 1225) loss: 1.167258\n",
            "(Iteration 1161 / 1225) loss: 1.195347\n",
            "(Iteration 1171 / 1225) loss: 1.205237\n",
            "(Iteration 1181 / 1225) loss: 1.240730\n",
            "(Iteration 1191 / 1225) loss: 1.192171\n",
            "(Iteration 1201 / 1225) loss: 1.148248\n",
            "(Iteration 1211 / 1225) loss: 1.355700\n",
            "(Iteration 1221 / 1225) loss: 1.225685\n",
            "(Epoch 5 / 5) train acc: 0.534000; val_acc: 0.486000\n",
            "BEST VALID ACC: 0.504000\n"
          ],
          "name": "stdout"
        }
      ]
    },
    {
      "cell_type": "markdown",
      "metadata": {
        "id": "STgdIZ5B6GLl",
        "colab_type": "text"
      },
      "source": [
        "# Test your model!\n",
        "Run your best model on the validation and test sets. You should achieve above 50% accuracy on the validation set."
      ]
    },
    {
      "cell_type": "code",
      "metadata": {
        "id": "JXBuE-BH6GLl",
        "colab_type": "code",
        "colab": {
          "base_uri": "https://localhost:8080/",
          "height": 52
        },
        "outputId": "66c3a96c-e932-4136-bd79-869afd8c54e0"
      },
      "source": [
        "y_test_pred = np.argmax(best_model.loss(data['X_test']), axis=1)\n",
        "y_val_pred = np.argmax(best_model.loss(data['X_val']), axis=1)\n",
        "print('Validation set accuracy: ', (y_val_pred == data['y_val']).mean())\n",
        "print('Test set accuracy: ', (y_test_pred == data['y_test']).mean())"
      ],
      "execution_count": 62,
      "outputs": [
        {
          "output_type": "stream",
          "text": [
            "Validation set accuracy:  0.504\n",
            "Test set accuracy:  0.496\n"
          ],
          "name": "stdout"
        }
      ]
    }
  ]
}