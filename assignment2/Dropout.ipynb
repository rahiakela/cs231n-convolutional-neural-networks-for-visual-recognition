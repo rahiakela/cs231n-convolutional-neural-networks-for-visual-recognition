{
  "nbformat": 4,
  "nbformat_minor": 0,
  "metadata": {
    "kernelspec": {
      "display_name": "Python 3",
      "name": "python3",
      "language": "python"
    },
    "language_info": {
      "mimetype": "text/x-python",
      "nbconvert_exporter": "python",
      "name": "python",
      "file_extension": ".py",
      "version": "3.7.1",
      "pygments_lexer": "ipython3",
      "codemirror_mode": {
        "version": 3,
        "name": "ipython"
      }
    },
    "colab": {
      "name": "Dropout.ipynb",
      "provenance": [],
      "toc_visible": true
    }
  },
  "cells": [
    {
      "cell_type": "markdown",
      "metadata": {
        "tags": [
          "pdf-title"
        ],
        "id": "QUf200-lj608"
      },
      "source": [
        "# Dropout\n",
        "Dropout [1] is a technique for regularizing neural networks by randomly setting some output activations to zero during the forward pass. In this exercise you will implement a dropout layer and modify your fully-connected network to optionally use dropout.\n",
        "\n",
        "[1] [Geoffrey E. Hinton et al, \"Improving neural networks by preventing co-adaptation of feature detectors\", arXiv 2012](https://arxiv.org/abs/1207.0580)"
      ]
    },
    {
      "cell_type": "markdown",
      "metadata": {
        "id": "be4spuGbj-X-"
      },
      "source": [
        "## Setup"
      ]
    },
    {
      "cell_type": "code",
      "metadata": {
        "id": "wGYK_F2lj_lM",
        "outputId": "526ffbf4-2d9d-4ad4-eab7-17ef30fd183f",
        "colab": {
          "base_uri": "https://localhost:8080/",
          "height": 497
        }
      },
      "source": [
        "# clone source code from github\n",
        "!git clone https://github.com/rahiakela/cs231n-convolutional-neural-networks-for-visual-recognition -b assignments\n",
        "\n",
        "# copy source code to root directory\n",
        "!cp -r cs231n-convolutional-neural-networks-for-visual-recognition/assignment2/cs231n .\n",
        "\n",
        "# download CIFAR10 dataset\n",
        "!wget http://www.cs.toronto.edu/~kriz/cifar-10-python.tar.gz\n",
        "!tar -xzvf cifar-10-python.tar.gz\n",
        "!rm cifar-10-python.tar.gz \n",
        "\n",
        "#copy dataset to cs231n/datasets directory\n",
        "!cp -r cifar-10-batches-py cs231n/datasets/"
      ],
      "execution_count": 1,
      "outputs": [
        {
          "output_type": "stream",
          "text": [
            "Cloning into 'cs231n-convolutional-neural-networks-for-visual-recognition'...\n",
            "remote: Enumerating objects: 228, done.\u001b[K\n",
            "remote: Counting objects: 100% (228/228), done.\u001b[K\n",
            "remote: Compressing objects: 100% (193/193), done.\u001b[K\n",
            "remote: Total 228 (delta 95), reused 144 (delta 32), pack-reused 0\u001b[K\n",
            "Receiving objects: 100% (228/228), 6.08 MiB | 30.53 MiB/s, done.\n",
            "Resolving deltas: 100% (95/95), done.\n",
            "--2020-09-28 05:52:22--  http://www.cs.toronto.edu/~kriz/cifar-10-python.tar.gz\n",
            "Resolving www.cs.toronto.edu (www.cs.toronto.edu)... 128.100.3.30\n",
            "Connecting to www.cs.toronto.edu (www.cs.toronto.edu)|128.100.3.30|:80... connected.\n",
            "HTTP request sent, awaiting response... 200 OK\n",
            "Length: 170498071 (163M) [application/x-gzip]\n",
            "Saving to: ‘cifar-10-python.tar.gz’\n",
            "\n",
            "cifar-10-python.tar 100%[===================>] 162.60M  51.7MB/s    in 3.3s    \n",
            "\n",
            "2020-09-28 05:52:25 (49.3 MB/s) - ‘cifar-10-python.tar.gz’ saved [170498071/170498071]\n",
            "\n",
            "cifar-10-batches-py/\n",
            "cifar-10-batches-py/data_batch_4\n",
            "cifar-10-batches-py/readme.html\n",
            "cifar-10-batches-py/test_batch\n",
            "cifar-10-batches-py/data_batch_3\n",
            "cifar-10-batches-py/batches.meta\n",
            "cifar-10-batches-py/data_batch_2\n",
            "cifar-10-batches-py/data_batch_5\n",
            "cifar-10-batches-py/data_batch_1\n"
          ],
          "name": "stdout"
        }
      ]
    },
    {
      "cell_type": "code",
      "metadata": {
        "tags": [
          "pdf-ignore"
        ],
        "id": "STF_RtI7j61B",
        "outputId": "7bc8db0f-d8f0-4d5f-896f-f46e926f67e7",
        "colab": {
          "base_uri": "https://localhost:8080/",
          "height": 70
        }
      },
      "source": [
        "# As usual, a bit of setup\n",
        "from __future__ import print_function\n",
        "import time\n",
        "import numpy as np\n",
        "import matplotlib.pyplot as plt\n",
        "from cs231n.classifiers.fc_net import *\n",
        "from cs231n.data_utils import get_CIFAR10_data\n",
        "from cs231n.gradient_check import eval_numerical_gradient, eval_numerical_gradient_array\n",
        "from cs231n.solver import Solver\n",
        "\n",
        "%matplotlib inline\n",
        "plt.rcParams['figure.figsize'] = (10.0, 8.0) # set default size of plots\n",
        "plt.rcParams['image.interpolation'] = 'nearest'\n",
        "plt.rcParams['image.cmap'] = 'gray'\n",
        "\n",
        "# for auto-reloading external modules\n",
        "# see http://stackoverflow.com/questions/1907993/autoreload-of-modules-in-ipython\n",
        "%load_ext autoreload\n",
        "%autoreload 2\n",
        "\n",
        "def rel_error(x, y):\n",
        "  \"\"\" returns relative error \"\"\"\n",
        "  return np.max(np.abs(x - y) / (np.maximum(1e-8, np.abs(x) + np.abs(y))))"
      ],
      "execution_count": 2,
      "outputs": [
        {
          "output_type": "stream",
          "text": [
            "run the following from the cs231n directory and try again:\n",
            "python setup.py build_ext --inplace\n",
            "You may also need to restart your iPython kernel\n"
          ],
          "name": "stdout"
        }
      ]
    },
    {
      "cell_type": "code",
      "metadata": {
        "tags": [
          "pdf-ignore"
        ],
        "id": "Z9fmSB8hj61S",
        "outputId": "46285715-2710-4afd-cf49-2328ab4386a8",
        "colab": {
          "base_uri": "https://localhost:8080/",
          "height": 124
        }
      },
      "source": [
        "# Load the (preprocessed) CIFAR10 data.\n",
        "\n",
        "data = get_CIFAR10_data()\n",
        "for k, v in data.items():\n",
        "  print('%s: ' % k, v.shape)"
      ],
      "execution_count": 3,
      "outputs": [
        {
          "output_type": "stream",
          "text": [
            "X_train:  (49000, 3, 32, 32)\n",
            "y_train:  (49000,)\n",
            "X_val:  (1000, 3, 32, 32)\n",
            "y_val:  (1000,)\n",
            "X_test:  (1000, 3, 32, 32)\n",
            "y_test:  (1000,)\n"
          ],
          "name": "stdout"
        }
      ]
    },
    {
      "cell_type": "markdown",
      "metadata": {
        "id": "ppDgqQ70j61a"
      },
      "source": [
        "# Dropout forward pass\n",
        "In the file `cs231n/layers.py`, implement the forward pass for dropout. Since dropout behaves differently during training and testing, make sure to implement the operation for both modes.\n",
        "\n",
        "Once you have done so, run the cell below to test your implementation."
      ]
    },
    {
      "cell_type": "code",
      "metadata": {
        "id": "w399yrHrj61b",
        "outputId": "b0df5f24-b543-4ddd-afcf-61569a9917a1",
        "colab": {
          "base_uri": "https://localhost:8080/",
          "height": 390
        }
      },
      "source": [
        "np.random.seed(231)\n",
        "x = np.random.randn(500, 500) + 10\n",
        "\n",
        "for p in [0.25, 0.4, 0.7]:\n",
        "  out, _ = dropout_forward(x, {'mode': 'train', 'p': p})\n",
        "  out_test, _ = dropout_forward(x, {'mode': 'test', 'p': p})\n",
        "\n",
        "  print('Running tests with p = ', p)\n",
        "  print('Mean of input: ', x.mean())\n",
        "  print('Mean of train-time output: ', out.mean())\n",
        "  print('Mean of test-time output: ', out_test.mean())\n",
        "  print('Fraction of train-time output set to zero: ', (out == 0).mean())\n",
        "  print('Fraction of test-time output set to zero: ', (out_test == 0).mean())\n",
        "  print()"
      ],
      "execution_count": 4,
      "outputs": [
        {
          "output_type": "stream",
          "text": [
            "Running tests with p =  0.25\n",
            "Mean of input:  10.000207878477502\n",
            "Mean of train-time output:  10.014059116977283\n",
            "Mean of test-time output:  10.000207878477502\n",
            "Fraction of train-time output set to zero:  0.749784\n",
            "Fraction of test-time output set to zero:  0.0\n",
            "\n",
            "Running tests with p =  0.4\n",
            "Mean of input:  10.000207878477502\n",
            "Mean of train-time output:  9.977917658761159\n",
            "Mean of test-time output:  10.000207878477502\n",
            "Fraction of train-time output set to zero:  0.600796\n",
            "Fraction of test-time output set to zero:  0.0\n",
            "\n",
            "Running tests with p =  0.7\n",
            "Mean of input:  10.000207878477502\n",
            "Mean of train-time output:  9.987811912159426\n",
            "Mean of test-time output:  10.000207878477502\n",
            "Fraction of train-time output set to zero:  0.30074\n",
            "Fraction of test-time output set to zero:  0.0\n",
            "\n"
          ],
          "name": "stdout"
        }
      ]
    },
    {
      "cell_type": "markdown",
      "metadata": {
        "id": "fOYlkluVj61g"
      },
      "source": [
        "# Dropout backward pass\n",
        "In the file `cs231n/layers.py`, implement the backward pass for dropout. After doing so, run the following cell to numerically gradient-check your implementation."
      ]
    },
    {
      "cell_type": "code",
      "metadata": {
        "id": "iU8JJcIyj61h",
        "outputId": "d8e63f83-a0de-41c1-a8a6-9f522aaa6134",
        "colab": {
          "base_uri": "https://localhost:8080/",
          "height": 35
        }
      },
      "source": [
        "np.random.seed(231)\n",
        "x = np.random.randn(10, 10) + 10\n",
        "dout = np.random.randn(*x.shape)\n",
        "\n",
        "dropout_param = {'mode': 'train', 'p': 0.2, 'seed': 123}\n",
        "out, cache = dropout_forward(x, dropout_param)\n",
        "dx = dropout_backward(dout, cache)\n",
        "dx_num = eval_numerical_gradient_array(lambda xx: dropout_forward(xx, dropout_param)[0], x, dout)\n",
        "\n",
        "# Error should be around e-10 or less\n",
        "print('dx relative error: ', rel_error(dx, dx_num))"
      ],
      "execution_count": 5,
      "outputs": [
        {
          "output_type": "stream",
          "text": [
            "dx relative error:  5.44560814873387e-11\n"
          ],
          "name": "stdout"
        }
      ]
    },
    {
      "cell_type": "markdown",
      "metadata": {
        "tags": [
          "pdf-inline"
        ],
        "id": "8tH33xkgj61l"
      },
      "source": [
        "## Inline Question 1:\n",
        "What happens if we do not divide the values being passed through inverse dropout by `p` in the dropout layer? Why does that happen?\n",
        "\n",
        "## Answer:\n",
        "Then layer will be disabled during traing time.\n"
      ]
    },
    {
      "cell_type": "markdown",
      "metadata": {
        "id": "YuRij5z9j61m"
      },
      "source": [
        "# Fully-connected nets with Dropout\n",
        "In the file `cs231n/classifiers/fc_net.py`, modify your implementation to use dropout. Specifically, if the constructor of the network receives a value that is not 1 for the `dropout` parameter, then the net should add a dropout layer immediately after every ReLU nonlinearity. After doing so, run the following to numerically gradient-check your implementation."
      ]
    },
    {
      "cell_type": "code",
      "metadata": {
        "id": "lcla5icTj61n",
        "outputId": "6cffdb9e-e237-4102-e6f1-8721a26a6b2e",
        "colab": {
          "base_uri": "https://localhost:8080/",
          "height": 497
        }
      },
      "source": [
        "np.random.seed(231)\n",
        "N, D, H1, H2, C = 2, 15, 20, 30, 10\n",
        "X = np.random.randn(N, D)\n",
        "y = np.random.randint(C, size=(N,))\n",
        "\n",
        "for dropout in [1, 0.75, 0.5]:\n",
        "  print('Running check with dropout = ', dropout)\n",
        "  model = FullyConnectedNet([H1, H2], input_dim=D, num_classes=C,\n",
        "                            weight_scale=5e-2, dtype=np.float64,\n",
        "                            dropout=dropout, seed=123)\n",
        "\n",
        "  loss, grads = model.loss(X, y)\n",
        "  print('Initial loss: ', loss)\n",
        "  \n",
        "  # Relative errors should be around e-6 or less; Note that it's fine\n",
        "  # if for dropout=1 you have W2 error be on the order of e-5.\n",
        "  for name in sorted(grads):\n",
        "    f = lambda _: model.loss(X, y)[0]\n",
        "    grad_num = eval_numerical_gradient(f, model.params[name], verbose=False, h=1e-5)\n",
        "    print('%s relative error: %.2e' % (name, rel_error(grad_num, grads[name])))\n",
        "  print()"
      ],
      "execution_count": 6,
      "outputs": [
        {
          "output_type": "stream",
          "text": [
            "Running check with dropout =  1\n",
            "Initial loss:  2.3004790897684924\n",
            "W1 relative error: 1.48e-07\n",
            "W2 relative error: 2.21e-05\n",
            "W3 relative error: 3.53e-07\n",
            "b1 relative error: 5.38e-09\n",
            "b2 relative error: 2.09e-09\n",
            "b3 relative error: 5.80e-11\n",
            "\n",
            "Running check with dropout =  0.75\n",
            "Initial loss:  2.302371489704412\n",
            "W1 relative error: 1.90e-07\n",
            "W2 relative error: 4.76e-06\n",
            "W3 relative error: 2.60e-08\n",
            "b1 relative error: 4.73e-09\n",
            "b2 relative error: 1.82e-09\n",
            "b3 relative error: 1.70e-10\n",
            "\n",
            "Running check with dropout =  0.5\n",
            "Initial loss:  2.3042759220785896\n",
            "W1 relative error: 3.11e-07\n",
            "W2 relative error: 1.84e-08\n",
            "W3 relative error: 5.35e-08\n",
            "b1 relative error: 5.37e-09\n",
            "b2 relative error: 2.99e-09\n",
            "b3 relative error: 1.13e-10\n",
            "\n"
          ],
          "name": "stdout"
        }
      ]
    },
    {
      "cell_type": "markdown",
      "metadata": {
        "id": "ZaiVpv1Dj61r"
      },
      "source": [
        "# Regularization experiment\n",
        "As an experiment, we will train a pair of two-layer networks on 500 training examples: one will use no dropout, and one will use a keep probability of 0.25. We will then visualize the training and validation accuracies of the two networks over time."
      ]
    },
    {
      "cell_type": "code",
      "metadata": {
        "scrolled": false,
        "id": "LZ-pzViYj61s",
        "outputId": "74349c14-cf21-4ce5-8a74-92095732e719",
        "colab": {
          "base_uri": "https://localhost:8080/",
          "height": 1000
        }
      },
      "source": [
        "# Train two identical nets, one with dropout and one without\n",
        "np.random.seed(231)\n",
        "num_train = 500\n",
        "small_data = {\n",
        "  'X_train': data['X_train'][:num_train],\n",
        "  'y_train': data['y_train'][:num_train],\n",
        "  'X_val': data['X_val'],\n",
        "  'y_val': data['y_val'],\n",
        "}\n",
        "\n",
        "solvers = {}\n",
        "dropout_choices = [1, 0.25]\n",
        "for dropout in dropout_choices:\n",
        "  model = FullyConnectedNet([500], dropout=dropout)\n",
        "  print(dropout)\n",
        "\n",
        "  solver = Solver(model, small_data,\n",
        "                  num_epochs=25, batch_size=100,\n",
        "                  update_rule='adam',\n",
        "                  optim_config={\n",
        "                    'learning_rate': 5e-4,\n",
        "                  },\n",
        "                  verbose=True, print_every=100)\n",
        "  solver.train()\n",
        "  solvers[dropout] = solver\n",
        "  print()"
      ],
      "execution_count": 7,
      "outputs": [
        {
          "output_type": "stream",
          "text": [
            "1\n",
            "(Iteration 1 / 125) loss: 7.856643\n",
            "(Epoch 0 / 25) train acc: 0.260000; val_acc: 0.184000\n",
            "(Epoch 1 / 25) train acc: 0.416000; val_acc: 0.258000\n",
            "(Epoch 2 / 25) train acc: 0.482000; val_acc: 0.276000\n",
            "(Epoch 3 / 25) train acc: 0.532000; val_acc: 0.277000\n",
            "(Epoch 4 / 25) train acc: 0.600000; val_acc: 0.271000\n",
            "(Epoch 5 / 25) train acc: 0.708000; val_acc: 0.299000\n",
            "(Epoch 6 / 25) train acc: 0.722000; val_acc: 0.282000\n",
            "(Epoch 7 / 25) train acc: 0.832000; val_acc: 0.255000\n",
            "(Epoch 8 / 25) train acc: 0.878000; val_acc: 0.269000\n",
            "(Epoch 9 / 25) train acc: 0.902000; val_acc: 0.275000\n",
            "(Epoch 10 / 25) train acc: 0.888000; val_acc: 0.261000\n",
            "(Epoch 11 / 25) train acc: 0.926000; val_acc: 0.277000\n",
            "(Epoch 12 / 25) train acc: 0.962000; val_acc: 0.302000\n",
            "(Epoch 13 / 25) train acc: 0.964000; val_acc: 0.305000\n",
            "(Epoch 14 / 25) train acc: 0.966000; val_acc: 0.309000\n",
            "(Epoch 15 / 25) train acc: 0.974000; val_acc: 0.289000\n",
            "(Epoch 16 / 25) train acc: 0.984000; val_acc: 0.300000\n",
            "(Epoch 17 / 25) train acc: 0.986000; val_acc: 0.310000\n",
            "(Epoch 18 / 25) train acc: 0.990000; val_acc: 0.310000\n",
            "(Epoch 19 / 25) train acc: 0.994000; val_acc: 0.314000\n",
            "(Epoch 20 / 25) train acc: 0.994000; val_acc: 0.313000\n",
            "(Iteration 101 / 125) loss: 0.000186\n",
            "(Epoch 21 / 25) train acc: 0.996000; val_acc: 0.317000\n",
            "(Epoch 22 / 25) train acc: 0.986000; val_acc: 0.318000\n",
            "(Epoch 23 / 25) train acc: 0.990000; val_acc: 0.317000\n",
            "(Epoch 24 / 25) train acc: 0.996000; val_acc: 0.313000\n",
            "(Epoch 25 / 25) train acc: 0.994000; val_acc: 0.297000\n",
            "\n",
            "0.25\n",
            "(Iteration 1 / 125) loss: 17.318478\n",
            "(Epoch 0 / 25) train acc: 0.230000; val_acc: 0.177000\n",
            "(Epoch 1 / 25) train acc: 0.378000; val_acc: 0.243000\n",
            "(Epoch 2 / 25) train acc: 0.402000; val_acc: 0.254000\n",
            "(Epoch 3 / 25) train acc: 0.502000; val_acc: 0.276000\n",
            "(Epoch 4 / 25) train acc: 0.528000; val_acc: 0.298000\n",
            "(Epoch 5 / 25) train acc: 0.562000; val_acc: 0.297000\n",
            "(Epoch 6 / 25) train acc: 0.626000; val_acc: 0.290000\n",
            "(Epoch 7 / 25) train acc: 0.628000; val_acc: 0.298000\n",
            "(Epoch 8 / 25) train acc: 0.686000; val_acc: 0.310000\n",
            "(Epoch 9 / 25) train acc: 0.722000; val_acc: 0.289000\n",
            "(Epoch 10 / 25) train acc: 0.724000; val_acc: 0.300000\n",
            "(Epoch 11 / 25) train acc: 0.760000; val_acc: 0.305000\n",
            "(Epoch 12 / 25) train acc: 0.772000; val_acc: 0.278000\n",
            "(Epoch 13 / 25) train acc: 0.818000; val_acc: 0.306000\n",
            "(Epoch 14 / 25) train acc: 0.816000; val_acc: 0.339000\n",
            "(Epoch 15 / 25) train acc: 0.854000; val_acc: 0.351000\n",
            "(Epoch 16 / 25) train acc: 0.832000; val_acc: 0.296000\n",
            "(Epoch 17 / 25) train acc: 0.854000; val_acc: 0.288000\n",
            "(Epoch 18 / 25) train acc: 0.846000; val_acc: 0.320000\n",
            "(Epoch 19 / 25) train acc: 0.872000; val_acc: 0.344000\n",
            "(Epoch 20 / 25) train acc: 0.868000; val_acc: 0.305000\n",
            "(Iteration 101 / 125) loss: 5.472347\n",
            "(Epoch 21 / 25) train acc: 0.866000; val_acc: 0.329000\n",
            "(Epoch 22 / 25) train acc: 0.902000; val_acc: 0.308000\n",
            "(Epoch 23 / 25) train acc: 0.898000; val_acc: 0.313000\n",
            "(Epoch 24 / 25) train acc: 0.912000; val_acc: 0.334000\n",
            "(Epoch 25 / 25) train acc: 0.914000; val_acc: 0.322000\n",
            "\n"
          ],
          "name": "stdout"
        }
      ]
    },
    {
      "cell_type": "code",
      "metadata": {
        "id": "ZidgepBZj61v",
        "outputId": "0c7072d6-80fc-4735-e4aa-0cd19be3928c",
        "colab": {
          "base_uri": "https://localhost:8080/",
          "height": 606
        }
      },
      "source": [
        "# Plot train and validation accuracies of the two models\n",
        "\n",
        "train_accs = []\n",
        "val_accs = []\n",
        "for dropout in dropout_choices:\n",
        "  solver = solvers[dropout]\n",
        "  train_accs.append(solver.train_acc_history[-1])\n",
        "  val_accs.append(solver.val_acc_history[-1])\n",
        "\n",
        "plt.subplot(3, 1, 1)\n",
        "for dropout in dropout_choices:\n",
        "  plt.plot(solvers[dropout].train_acc_history, 'o', label='%.2f dropout' % dropout)\n",
        "plt.title('Train accuracy')\n",
        "plt.xlabel('Epoch')\n",
        "plt.ylabel('Accuracy')\n",
        "plt.legend(ncol=2, loc='lower right')\n",
        "  \n",
        "plt.subplot(3, 1, 2)\n",
        "for dropout in dropout_choices:\n",
        "  plt.plot(solvers[dropout].val_acc_history, 'o', label='%.2f dropout' % dropout)\n",
        "plt.title('Val accuracy')\n",
        "plt.xlabel('Epoch')\n",
        "plt.ylabel('Accuracy')\n",
        "plt.legend(ncol=2, loc='lower right')\n",
        "\n",
        "plt.gcf().set_size_inches(15, 15)\n",
        "plt.show()"
      ],
      "execution_count": 8,
      "outputs": [
        {
          "output_type": "display_data",
          "data": {
            "image/png": "[encoded data removed]",
            "text/plain": [
              "<Figure size 1080x1080 with 2 Axes>"
            ]
          },
          "metadata": {
            "tags": [],
            "needs_background": "light"
          }
        }
      ]
    },
    {
      "cell_type": "markdown",
      "metadata": {
        "tags": [
          "pdf-inline"
        ],
        "id": "zXUH3yyRj61y"
      },
      "source": [
        "## Inline Question 2:\n",
        "Compare the validation and training accuracies with and without dropout -- what do your results suggest about dropout as a regularizer?\n",
        "\n",
        "## Answer:\n",
        "[FILL THIS IN]\n"
      ]
    },
    {
      "cell_type": "markdown",
      "metadata": {
        "tags": [
          "pdf-inline"
        ],
        "id": "BwOlP9E6j61z"
      },
      "source": [
        "## Inline Question 3:\n",
        "Suppose we are training a deep fully-connected network for image classification, with dropout after hidden layers (parameterized by keep probability p). If we are concerned about overfitting, how should we modify p (if at all) when we decide to decrease the size of the hidden layers (that is, the number of nodes in each layer)?\n",
        "\n",
        "## Answer:\n",
        "[FILL THIS IN]\n"
      ]
    }
  ]
}