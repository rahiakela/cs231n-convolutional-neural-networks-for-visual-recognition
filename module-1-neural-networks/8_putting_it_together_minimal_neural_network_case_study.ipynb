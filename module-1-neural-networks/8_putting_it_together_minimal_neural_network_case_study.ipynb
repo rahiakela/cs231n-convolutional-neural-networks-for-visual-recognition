{
  "nbformat": 4,
  "nbformat_minor": 0,
  "metadata": {
    "colab": {
      "name": "8-putting-it-together--minimal-neural-network-case-study.ipynb",
      "provenance": [],
      "authorship_tag": "ABX9TyPqbOFj1S3WclDKmBPuGgYL",
      "include_colab_link": true
    },
    "kernelspec": {
      "name": "python3",
      "display_name": "Python 3"
    }
  },
  "cells": [
    {
      "cell_type": "markdown",
      "metadata": {
        "id": "view-in-github",
        "colab_type": "text"
      },
      "source": [
        "<a href=\"https://colab.research.google.com/github/rahiakela/cs231n-convolutional-neural-networks-for-visual-recognition/blob/master/module-1-neural-networks/8_putting_it_together_minimal_neural_network_case_study.ipynb\" target=\"_parent\"><img src=\"https://colab.research.google.com/assets/colab-badge.svg\" alt=\"Open In Colab\"/></a>"
      ]
    },
    {
      "cell_type": "markdown",
      "metadata": {
        "id": "qtJojHburTZL",
        "colab_type": "text"
      },
      "source": [
        "# Putting it together: Minimal Neural Network Case Study"
      ]
    },
    {
      "cell_type": "markdown",
      "metadata": {
        "id": "ikhXpmtIrUTb",
        "colab_type": "text"
      },
      "source": [
        "Table of Contents:\n",
        "\n",
        "- Generating some data\n",
        "- Training a Softmax Linear Classifier\n",
        " - Initialize the parameters\n",
        " - Compute the class scores\n",
        " - Compute the loss\n",
        " - Computing the analytic gradient with backpropagation\n",
        " - Performing a parameter update\n",
        " - Putting it all together: Training a Softmax Classifier\n",
        "- Training a Neural Network\n",
        "- Summary\n",
        "\n",
        "In this section we’ll walk through a complete implementation of a toy Neural Network in 2 dimensions. We’ll first implement a simple linear classifier and then extend the code to a 2-layer Neural Network. As we’ll see, this extension is surprisingly simple and very few changes are necessary."
      ]
    },
    {
      "cell_type": "markdown",
      "metadata": {
        "id": "hUQP7I12ryr5",
        "colab_type": "text"
      },
      "source": [
        "## Generating some data"
      ]
    },
    {
      "cell_type": "markdown",
      "metadata": {
        "id": "OBYhqNlJr6TX",
        "colab_type": "text"
      },
      "source": [
        ""
      ]
    }
  ]
}